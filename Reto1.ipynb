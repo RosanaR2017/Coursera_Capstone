{
  "nbformat": 4,
  "nbformat_minor": 0,
  "metadata": {
    "colab": {
      "name": "Untitled0.ipynb",
      "provenance": [],
      "authorship_tag": "ABX9TyNuED+80Fadbm5x3408axXr",
      "include_colab_link": true
    },
    "kernelspec": {
      "name": "python3",
      "display_name": "Python 3"
    }
  },
  "cells": [
    {
      "cell_type": "markdown",
      "metadata": {
        "id": "view-in-github",
        "colab_type": "text"
      },
      "source": [
        "<a href=\"https://colab.research.google.com/github/RosanaR2017/Coursera_Capstone/blob/master/Reto1.ipynb\" target=\"_parent\"><img src=\"https://colab.research.google.com/assets/colab-badge.svg\" alt=\"Open In Colab\"/></a>"
      ]
    },
    {
      "cell_type": "code",
      "metadata": {
        "id": "B0b8qxL5LitE",
        "colab_type": "code",
        "colab": {}
      },
      "source": [
        ""
      ],
      "execution_count": null,
      "outputs": []
    },
    {
      "cell_type": "markdown",
      "metadata": {
        "id": "T_dr2NYhM5Fb",
        "colab_type": "text"
      },
      "source": [
        ""
      ]
    },
    {
      "cell_type": "markdown",
      "metadata": {
        "id": "nCnsmJeHMA8y",
        "colab_type": "text"
      },
      "source": [
        "<!DOCTYPE html>\n",
        "<html>\n",
        "<head>\n",
        "<title>RETO</title>\n",
        "<h1>RETO</h1>\n",
        "</head>\n",
        "<body>\n",
        "\n",
        "El Centro Comercial Unaleño desea comenzar a crear un carrito de compras. Para esto se requiere una tarea que será de gran utilidad a futuro: Leer y clasificar la información sobre un producto. \n",
        "\n",
        "En esta ocasión se deberá leer el nombre de un producto, el costo unitario, el precio de venta al público y la cantidad de unidades disponibles. Dada esta lectura se debe imprimir el valor total que puede ganar el centro comercial por dicho producto.\n",
        "\n",
        "Entrada: Los valores de cada producto en una línea de código diferente. En el siguiente orden:\n",
        "El nombre del producto\n",
        "El costo unitario CU\n",
        "El precio de venta al público PVP\n",
        "La cantidad de unidades disponibles\n",
        "\n",
        "Salida: Se debe mostrar lo siguiente:\n",
        "El texto “Producto” sin comillas acompañado del nombre del producto\n",
        "El texto “CU:” sin comillas acompañado del costo unitario del mismo\n",
        "El texto “PVP:” sin comillas acompañado del precio de venta al público\n",
        "El texto “Unidades Disponibles:” acompañado de las unidades disponibles\n",
        "El texto “Ganancia:” acompañado del cálculo de la ganancia por ese producto. \n",
        "\n",
        "Ejemplo: \n",
        "\n",
        "Entrada\n",
        "\n",
        "Salida\n",
        "\n",
        "Salida\n",
        "\n",
        "Chocolatinas Cohete\n",
        "\n",
        "300\n",
        "\n",
        "550\n",
        "\n",
        "1000\n",
        "\n",
        "\n",
        "\n",
        "Producto: Chocolatinas Cohete\n",
        "\n",
        "CU: $300\n",
        "\n",
        "PVP: $550\n",
        "\n",
        "Unidades Disponibles: 1000\n",
        "\n",
        "Ganancia: $250000"
      ]
    },
    {
      "cell_type": "code",
      "metadata": {
        "id": "tv_M5bGxM_HG",
        "colab_type": "code",
        "colab": {}
      },
      "source": [
        ""
      ],
      "execution_count": null,
      "outputs": []
    },
    {
      "cell_type": "markdown",
      "metadata": {
        "id": "eUVZYge7M_q_",
        "colab_type": "text"
      },
      "source": [
        ""
      ]
    }
  ]
}