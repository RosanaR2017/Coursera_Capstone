{
  "nbformat": 4,
  "nbformat_minor": 0,
  "metadata": {
    "kernelspec": {
      "name": "python3",
      "display_name": "Python 3.7",
      "language": "python"
    },
    "language_info": {
      "name": "python",
      "version": "3.7.9",
      "mimetype": "text/x-python",
      "codemirror_mode": {
        "name": "ipython",
        "version": 3
      },
      "pygments_lexer": "ipython3",
      "nbconvert_exporter": "python",
      "file_extension": ".py"
    },
    "colab": {
      "name": "Capstone Project -Week 4.ipynb",
      "provenance": [],
      "collapsed_sections": []
    }
  },
  "cells": [
    {
      "cell_type": "code",
      "metadata": {
        "id": "-_0DzvBiLaHI",
        "outputId": "fc6c654e-5d17-4860-d215-8eedbb4428b0",
        "colab": {
          "base_uri": "https://localhost:8080/"
        }
      },
      "source": [
        "!pip install folium\n",
        "!pip install PyPDF2\n",
        "!pip install urllib3\n",
        "!pip install pdfminer\n",
        "!pip3 install table_ocr"
      ],
      "execution_count": null,
      "outputs": [
        {
          "output_type": "stream",
          "text": [
            "Requirement already satisfied: folium in /usr/local/lib/python3.6/dist-packages (0.8.3)\n",
            "Requirement already satisfied: branca>=0.3.0 in /usr/local/lib/python3.6/dist-packages (from folium) (0.4.1)\n",
            "Requirement already satisfied: numpy in /usr/local/lib/python3.6/dist-packages (from folium) (1.19.3)\n",
            "Requirement already satisfied: jinja2 in /usr/local/lib/python3.6/dist-packages (from folium) (2.11.2)\n",
            "Requirement already satisfied: requests in /usr/local/lib/python3.6/dist-packages (from folium) (2.23.0)\n",
            "Requirement already satisfied: six in /usr/local/lib/python3.6/dist-packages (from folium) (1.15.0)\n",
            "Requirement already satisfied: MarkupSafe>=0.23 in /usr/local/lib/python3.6/dist-packages (from jinja2->folium) (1.1.1)\n",
            "Requirement already satisfied: idna<3,>=2.5 in /usr/local/lib/python3.6/dist-packages (from requests->folium) (2.10)\n",
            "Requirement already satisfied: certifi>=2017.4.17 in /usr/local/lib/python3.6/dist-packages (from requests->folium) (2020.6.20)\n",
            "Requirement already satisfied: chardet<4,>=3.0.2 in /usr/local/lib/python3.6/dist-packages (from requests->folium) (3.0.4)\n",
            "Requirement already satisfied: urllib3!=1.25.0,!=1.25.1,<1.26,>=1.21.1 in /usr/local/lib/python3.6/dist-packages (from requests->folium) (1.24.3)\n",
            "Requirement already satisfied: PyPDF2 in /usr/local/lib/python3.6/dist-packages (1.26.0)\n",
            "Requirement already satisfied: urllib3 in /usr/local/lib/python3.6/dist-packages (1.24.3)\n",
            "Requirement already satisfied: pdfminer in /usr/local/lib/python3.6/dist-packages (20191125)\n",
            "Requirement already satisfied: pycryptodome in /usr/local/lib/python3.6/dist-packages (from pdfminer) (3.9.8)\n",
            "Requirement already satisfied: table_ocr in /usr/local/lib/python3.6/dist-packages (0.2.4)\n",
            "Requirement already satisfied: opencv-python~=4.2 in /usr/local/lib/python3.6/dist-packages (from table_ocr) (4.4.0.44)\n",
            "Requirement already satisfied: numpy~=1.19 in /usr/local/lib/python3.6/dist-packages (from table_ocr) (1.19.3)\n",
            "Requirement already satisfied: requests>=2 in /usr/local/lib/python3.6/dist-packages (from table_ocr) (2.23.0)\n",
            "Requirement already satisfied: pytesseract~=0.3 in /usr/local/lib/python3.6/dist-packages (from table_ocr) (0.3.6)\n",
            "Requirement already satisfied: certifi>=2017.4.17 in /usr/local/lib/python3.6/dist-packages (from requests>=2->table_ocr) (2020.6.20)\n",
            "Requirement already satisfied: idna<3,>=2.5 in /usr/local/lib/python3.6/dist-packages (from requests>=2->table_ocr) (2.10)\n",
            "Requirement already satisfied: urllib3!=1.25.0,!=1.25.1,<1.26,>=1.21.1 in /usr/local/lib/python3.6/dist-packages (from requests>=2->table_ocr) (1.24.3)\n",
            "Requirement already satisfied: chardet<4,>=3.0.2 in /usr/local/lib/python3.6/dist-packages (from requests>=2->table_ocr) (3.0.4)\n",
            "Requirement already satisfied: Pillow in /usr/local/lib/python3.6/dist-packages (from pytesseract~=0.3->table_ocr) (7.0.0)\n"
          ],
          "name": "stdout"
        }
      ]
    },
    {
      "cell_type": "markdown",
      "metadata": {
        "id": "yfndDF_zLaHR"
      },
      "source": [
        "## 1. Importing Libraries:"
      ]
    },
    {
      "cell_type": "code",
      "metadata": {
        "id": "7Lt1-xTBLaHS",
        "outputId": "74c44882-abd2-46dc-9a87-f6c602b68834",
        "colab": {
          "base_uri": "https://localhost:8080/"
        }
      },
      "source": [
        "import numpy as np # library to handle data in a vectorized manner\n",
        "from pprint import pprint\n",
        "\n",
        "import pandas as pd # library for data analysis\n",
        "pd.set_option('display.max_columns', None)\n",
        "pd.set_option('display.max_rows', None)\n",
        "\n",
        "import json # library to handle JSON files\n",
        "from pandas.io.json import json_normalize # tranform JSON file into a pandas dataframe\n",
        "\n",
        "import requests # library to handle requests\n",
        "from bs4 import BeautifulSoup # library to parse HTML documents\n",
        "from urllib.request import urlopen\n",
        "\n",
        "from geopy.geocoders import Nominatim # convert an address into latitude and longitude values\n",
        "\n",
        "# Matplotlib and associated plotting modules\n",
        "import matplotlib.cm as cm\n",
        "import matplotlib.colors as colors\n",
        "\n",
        "# import k-means from clustering stage\n",
        "from sklearn.cluster import KMeans\n",
        "\n",
        "#!conda install -c conda-forge folium=0.5.0 --yes # uncomment this line if you haven't completed the Foursquare API lab\n",
        "import folium # map rendering library\n",
        "\n",
        "#Library to extract text and data from pdf format\n",
        "import PyPDF2\n",
        "import urllib3\n",
        "from io import StringIO\n",
        "import io\n",
        "\n",
        "print('Libraries imported.')"
      ],
      "execution_count": null,
      "outputs": [
        {
          "output_type": "stream",
          "text": [
            "Libraries imported.\n"
          ],
          "name": "stdout"
        }
      ]
    },
    {
      "cell_type": "markdown",
      "metadata": {
        "id": "tI_hWHPvLaHW"
      },
      "source": [
        "## 2. Description of the problem "
      ]
    },
    {
      "cell_type": "markdown",
      "metadata": {
        "id": "qC5xQ86mH5A3"
      },
      "source": [
        "\"*Ecuador has one of the highest per capita Covid-19 deaths rates in the world, according to research from Johns Hopkins University. A New York Times analysis of over two dozen countries found that Ecuador had one of the highest excess death rate* \"(Noath S,2020) . Therefore, as a current resident of Ecuador, I am concerned about my family safety in this country ,and I want to where are located the highest spot of Covid in this country. This information will help me to travel within this country and know where I can stay safely from this brutal disease. \n",
        "\n",
        "**Reference entry:**\n",
        "url: Noah Smith, [Covid-19 in Ecuador: An Exclusive Q&A with Ecuador’s Ambassador to the U.S.](https://reliefweb.int/report/ecuador/covid-19-ecuador-exclusive-qa-ecuador-s-ambassador-us)\n"
      ]
    },
    {
      "cell_type": "markdown",
      "metadata": {
        "id": "M_1Mp8ZZLaHY"
      },
      "source": [
        "### 3. Description of Data:\n",
        "I am usig several input of data:\n",
        "\n",
        "1.   The first input of data that I am using is from wikipedia. Specifically, it is a page with data about COVID-19 pandemic in Ecuador.\n",
        "2.   The second input of data are the geolocation data of each provinces in Ecuador. This information was extracted using geopy locator.\n",
        "3. The final data are the nearby venues that were extracted using the API foursquare. \n",
        "\n",
        "\n"
      ]
    },
    {
      "cell_type": "markdown",
      "metadata": {
        "id": "9l4FQKrsLaID"
      },
      "source": [
        "### Using web scrapping and beautiful soup to extract data from a wikipedia page."
      ]
    },
    {
      "cell_type": "code",
      "metadata": {
        "id": "OB0HYv1uLaIH"
      },
      "source": [
        "wiki_URL=\"https://en.wikipedia.org/wiki/COVID-19_pandemic_in_Ecuador\""
      ],
      "execution_count": null,
      "outputs": []
    },
    {
      "cell_type": "code",
      "metadata": {
        "id": "vWcX_nWvLaIK"
      },
      "source": [
        "#from inspecting element you get the class wikitable sortable jquery-tablesorter\n",
        "response=requests.get(wiki_URL)"
      ],
      "execution_count": null,
      "outputs": []
    },
    {
      "cell_type": "code",
      "metadata": {
        "id": "bGX2L-tiRE0N"
      },
      "source": [
        "soup = BeautifulSoup(response.text,'lxml')\n",
        "table=soup.find('table',{'class':'wikitable'}).tbody"
      ],
      "execution_count": null,
      "outputs": []
    },
    {
      "cell_type": "markdown",
      "metadata": {
        "id": "Z38MlFHSwZFS"
      },
      "source": [
        ""
      ]
    },
    {
      "cell_type": "markdown",
      "metadata": {
        "id": "_RAieEHAwZku"
      },
      "source": [
        "### First, I cleaned the HTML headers by converting it to text and using remove_html tags function.\n"
      ]
    },
    {
      "cell_type": "code",
      "metadata": {
        "id": "KzWqJv_rOGBO"
      },
      "source": [
        "def remove_html_tags(text):\n",
        "    \"\"\"Remove html tags from a string\"\"\"\n",
        "    import re\n",
        "    clean = re.compile(r'(<[^\\>]*>)|(\\n)|(\\xa0)') \n",
        "    return re.sub(clean, '', text) "
      ],
      "execution_count": null,
      "outputs": []
    },
    {
      "cell_type": "code",
      "metadata": {
        "id": "-I6I5LSGT87x",
        "outputId": "5e71b72e-2362-45b6-f34d-2b7e7b60ea7e",
        "colab": {
          "base_uri": "https://localhost:8080/"
        }
      },
      "source": [
        "header=[]\n",
        "for th in table.find_all('th'):\n",
        "  header.append(str(th))\n",
        "header=list(map(remove_html_tags,header[0:4]))\n",
        "pprint(header)"
      ],
      "execution_count": null,
      "outputs": [
        {
          "output_type": "stream",
          "text": [
            "['Provinces', 'Confirmed cases', 'Confirmed deaths', 'Probable deaths']\n"
          ],
          "name": "stdout"
        }
      ]
    },
    {
      "cell_type": "code",
      "metadata": {
        "id": "RTO45XFfPWji",
        "outputId": "538d3eee-2006-4f9f-9705-0d694fa1acc4",
        "colab": {
          "base_uri": "https://localhost:8080/"
        }
      },
      "source": [
        "rows = []\n",
        "for td in table.find_all('td'):\n",
        "    rows.append(str(td))\n",
        "rows=list(map(remove_html_tags,rows))\n",
        "print(rows, sep=\",\")"
      ],
      "execution_count": null,
      "outputs": [
        {
          "output_type": "stream",
          "text": [
            "['Azuay', '10,658', '195', '12', 'Bolívar', '2,111', '66', '12', 'Cañar', '2,110', '83', '7', 'Carchi', '3,053', '104', '1', 'Chimborazo', '2,516', '315', '119', 'Cotopaxi', '4,575', '281', '61', 'El Oro', '6,477', '466', '185', 'Esmeraldas', '4,271', '216', '51', 'Galápagos', '227', '1', '1', 'Guayas', '22,263', '1,737', '1,651', 'Imbabura', '4,773', '170', '7', 'Loja', '6,227', '222', '44', 'Los Ríos', '4,017', '342', '237', 'Manabí', '11,284', '1,025', '1,033', 'Morona Santiago', '3,008', '22', '0', 'Napo', '1,440', '74', '2', 'Orellana', '1,956', '53', '17', 'Pastaza', '2,258', '60', '15', 'Pichincha', '59,477', '1,789', '242', 'Santa Elena', '1,738', '368', '274', 'Santo Domingo de los Tsáchilas', '5,293', '361', '116', 'Sucumbíos', '2,763', '92', '2', 'Tungurahua', '5,119', '276', '223', 'Zamora Chinchipe', '1,580', '53', '1']\n"
          ],
          "name": "stdout"
        }
      ]
    },
    {
      "cell_type": "markdown",
      "metadata": {
        "id": "jCFVksU8xuE5"
      },
      "source": [
        "After cleaning our colums and rows, I am going to construct the dataframe. "
      ]
    },
    {
      "cell_type": "markdown",
      "metadata": {
        "id": "rZ0CmJnD2Jr1"
      },
      "source": [
        "1. First, I construct a list with the provinces  with its data  where each province has it owns data contained in a list. "
      ]
    },
    {
      "cell_type": "code",
      "metadata": {
        "id": "pBELia-rLaIY",
        "outputId": "79fc74eb-c578-4187-de3a-2d16d124aab8",
        "colab": {
          "base_uri": "https://localhost:8080/"
        }
      },
      "source": [
        "dict_kv=[]\n",
        "for i in range(0, len(rows)):\n",
        "  if (rows[i].strip().isalpha()):  \n",
        "    dict_kv.append([rows[i],rows[i+1],rows[i+2],rows[i+3]])\n",
        "    \n",
        "  \n",
        "dict_kv.append([rows[92],rows[93],rows[94],rows[95]])  # I need to accomodate the last item of the list to get the complete items\n",
        "      \n",
        "pprint(dict_kv)\n",
        "type(dict_kv)"
      ],
      "execution_count": null,
      "outputs": [
        {
          "output_type": "stream",
          "text": [
            "[['Azuay', '10,658', '195', '12'],\n",
            " ['Bolívar', '2,111', '66', '12'],\n",
            " ['Cañar', '2,110', '83', '7'],\n",
            " ['Carchi', '3,053', '104', '1'],\n",
            " ['Chimborazo', '2,516', '315', '119'],\n",
            " ['Cotopaxi', '4,575', '281', '61'],\n",
            " ['Esmeraldas', '4,271', '216', '51'],\n",
            " ['Galápagos', '227', '1', '1'],\n",
            " ['Guayas', '22,263', '1,737', '1,651'],\n",
            " ['Imbabura', '4,773', '170', '7'],\n",
            " ['Loja', '6,227', '222', '44'],\n",
            " ['Manabí', '11,284', '1,025', '1,033'],\n",
            " ['Napo', '1,440', '74', '2'],\n",
            " ['Orellana', '1,956', '53', '17'],\n",
            " ['Pastaza', '2,258', '60', '15'],\n",
            " ['Pichincha', '59,477', '1,789', '242'],\n",
            " ['Sucumbíos', '2,763', '92', '2'],\n",
            " ['Tungurahua', '5,119', '276', '223'],\n",
            " ['Zamora Chinchipe', '1,580', '53', '1']]\n"
          ],
          "name": "stdout"
        },
        {
          "output_type": "execute_result",
          "data": {
            "text/plain": [
              "list"
            ]
          },
          "metadata": {
            "tags": []
          },
          "execution_count": 9
        }
      ]
    },
    {
      "cell_type": "code",
      "metadata": {
        "id": "AZ18fXoyLaIb",
        "outputId": "feee1601-9a4b-4d17-c750-d6b4276c475d",
        "colab": {
          "base_uri": "https://localhost:8080/",
          "height": 610
        }
      },
      "source": [
        "df = pd.DataFrame(data=dict_kv, columns = header)\n",
        "df"
      ],
      "execution_count": null,
      "outputs": [
        {
          "output_type": "execute_result",
          "data": {
            "text/html": [
              "<div>\n",
              "<style scoped>\n",
              "    .dataframe tbody tr th:only-of-type {\n",
              "        vertical-align: middle;\n",
              "    }\n",
              "\n",
              "    .dataframe tbody tr th {\n",
              "        vertical-align: top;\n",
              "    }\n",
              "\n",
              "    .dataframe thead th {\n",
              "        text-align: right;\n",
              "    }\n",
              "</style>\n",
              "<table border=\"1\" class=\"dataframe\">\n",
              "  <thead>\n",
              "    <tr style=\"text-align: right;\">\n",
              "      <th></th>\n",
              "      <th>Provinces</th>\n",
              "      <th>Confirmed cases</th>\n",
              "      <th>Confirmed deaths</th>\n",
              "      <th>Probable deaths</th>\n",
              "    </tr>\n",
              "  </thead>\n",
              "  <tbody>\n",
              "    <tr>\n",
              "      <th>0</th>\n",
              "      <td>Azuay</td>\n",
              "      <td>10,658</td>\n",
              "      <td>195</td>\n",
              "      <td>12</td>\n",
              "    </tr>\n",
              "    <tr>\n",
              "      <th>1</th>\n",
              "      <td>Bolívar</td>\n",
              "      <td>2,111</td>\n",
              "      <td>66</td>\n",
              "      <td>12</td>\n",
              "    </tr>\n",
              "    <tr>\n",
              "      <th>2</th>\n",
              "      <td>Cañar</td>\n",
              "      <td>2,110</td>\n",
              "      <td>83</td>\n",
              "      <td>7</td>\n",
              "    </tr>\n",
              "    <tr>\n",
              "      <th>3</th>\n",
              "      <td>Carchi</td>\n",
              "      <td>3,053</td>\n",
              "      <td>104</td>\n",
              "      <td>1</td>\n",
              "    </tr>\n",
              "    <tr>\n",
              "      <th>4</th>\n",
              "      <td>Chimborazo</td>\n",
              "      <td>2,516</td>\n",
              "      <td>315</td>\n",
              "      <td>119</td>\n",
              "    </tr>\n",
              "    <tr>\n",
              "      <th>5</th>\n",
              "      <td>Cotopaxi</td>\n",
              "      <td>4,575</td>\n",
              "      <td>281</td>\n",
              "      <td>61</td>\n",
              "    </tr>\n",
              "    <tr>\n",
              "      <th>6</th>\n",
              "      <td>Esmeraldas</td>\n",
              "      <td>4,271</td>\n",
              "      <td>216</td>\n",
              "      <td>51</td>\n",
              "    </tr>\n",
              "    <tr>\n",
              "      <th>7</th>\n",
              "      <td>Galápagos</td>\n",
              "      <td>227</td>\n",
              "      <td>1</td>\n",
              "      <td>1</td>\n",
              "    </tr>\n",
              "    <tr>\n",
              "      <th>8</th>\n",
              "      <td>Guayas</td>\n",
              "      <td>22,263</td>\n",
              "      <td>1,737</td>\n",
              "      <td>1,651</td>\n",
              "    </tr>\n",
              "    <tr>\n",
              "      <th>9</th>\n",
              "      <td>Imbabura</td>\n",
              "      <td>4,773</td>\n",
              "      <td>170</td>\n",
              "      <td>7</td>\n",
              "    </tr>\n",
              "    <tr>\n",
              "      <th>10</th>\n",
              "      <td>Loja</td>\n",
              "      <td>6,227</td>\n",
              "      <td>222</td>\n",
              "      <td>44</td>\n",
              "    </tr>\n",
              "    <tr>\n",
              "      <th>11</th>\n",
              "      <td>Manabí</td>\n",
              "      <td>11,284</td>\n",
              "      <td>1,025</td>\n",
              "      <td>1,033</td>\n",
              "    </tr>\n",
              "    <tr>\n",
              "      <th>12</th>\n",
              "      <td>Napo</td>\n",
              "      <td>1,440</td>\n",
              "      <td>74</td>\n",
              "      <td>2</td>\n",
              "    </tr>\n",
              "    <tr>\n",
              "      <th>13</th>\n",
              "      <td>Orellana</td>\n",
              "      <td>1,956</td>\n",
              "      <td>53</td>\n",
              "      <td>17</td>\n",
              "    </tr>\n",
              "    <tr>\n",
              "      <th>14</th>\n",
              "      <td>Pastaza</td>\n",
              "      <td>2,258</td>\n",
              "      <td>60</td>\n",
              "      <td>15</td>\n",
              "    </tr>\n",
              "    <tr>\n",
              "      <th>15</th>\n",
              "      <td>Pichincha</td>\n",
              "      <td>59,477</td>\n",
              "      <td>1,789</td>\n",
              "      <td>242</td>\n",
              "    </tr>\n",
              "    <tr>\n",
              "      <th>16</th>\n",
              "      <td>Sucumbíos</td>\n",
              "      <td>2,763</td>\n",
              "      <td>92</td>\n",
              "      <td>2</td>\n",
              "    </tr>\n",
              "    <tr>\n",
              "      <th>17</th>\n",
              "      <td>Tungurahua</td>\n",
              "      <td>5,119</td>\n",
              "      <td>276</td>\n",
              "      <td>223</td>\n",
              "    </tr>\n",
              "    <tr>\n",
              "      <th>18</th>\n",
              "      <td>Zamora Chinchipe</td>\n",
              "      <td>1,580</td>\n",
              "      <td>53</td>\n",
              "      <td>1</td>\n",
              "    </tr>\n",
              "  </tbody>\n",
              "</table>\n",
              "</div>"
            ],
            "text/plain": [
              "           Provinces Confirmed cases Confirmed deaths Probable deaths\n",
              "0              Azuay          10,658              195              12\n",
              "1            Bolívar           2,111               66              12\n",
              "2              Cañar           2,110               83               7\n",
              "3             Carchi           3,053              104               1\n",
              "4         Chimborazo           2,516              315             119\n",
              "5           Cotopaxi           4,575              281              61\n",
              "6         Esmeraldas           4,271              216              51\n",
              "7          Galápagos             227                1               1\n",
              "8             Guayas          22,263            1,737           1,651\n",
              "9           Imbabura           4,773              170               7\n",
              "10              Loja           6,227              222              44\n",
              "11            Manabí          11,284            1,025           1,033\n",
              "12              Napo           1,440               74               2\n",
              "13          Orellana           1,956               53              17\n",
              "14           Pastaza           2,258               60              15\n",
              "15         Pichincha          59,477            1,789             242\n",
              "16         Sucumbíos           2,763               92               2\n",
              "17        Tungurahua           5,119              276             223\n",
              "18  Zamora Chinchipe           1,580               53               1"
            ]
          },
          "metadata": {
            "tags": []
          },
          "execution_count": 10
        }
      ]
    },
    {
      "cell_type": "markdown",
      "metadata": {
        "id": "Qj_4d0rJLaIi"
      },
      "source": [
        "#### Then, I want to get the coordinates of Ecuador and its provices."
      ]
    },
    {
      "cell_type": "code",
      "metadata": {
        "id": "ydqK8U7TGABG",
        "outputId": "0f3b6b63-4b52-49d6-d424-3eefa8e6333a",
        "colab": {
          "base_uri": "https://localhost:8080/"
        }
      },
      "source": [
        "address = 'Ecuador'\n",
        "\n",
        "geolocator = Nominatim(user_agent=\"ecuador_explorer\")\n",
        "location = geolocator.geocode(address)\n",
        "latitude = location.latitude\n",
        "longitude = location.longitude\n",
        "print('The geograpical coordinate of the country are {}, {}. This country is {}.'.format(latitude, longitude, location))"
      ],
      "execution_count": null,
      "outputs": [
        {
          "output_type": "stream",
          "text": [
            "The geograpical coordinate of the country are -1.3397668, -79.3666965. This country is Ecuador.\n"
          ],
          "name": "stdout"
        }
      ]
    },
    {
      "cell_type": "markdown",
      "metadata": {
        "id": "vH6EJgpVYYx_"
      },
      "source": [
        "Create a map of Ecuador"
      ]
    },
    {
      "cell_type": "code",
      "metadata": {
        "id": "08AMQAwCYXbv",
        "outputId": "320ca598-ebb6-4dfd-f325-fea8747c0c4c",
        "colab": {
          "base_uri": "https://localhost:8080/",
          "height": 866
        }
      },
      "source": [
        "# create map of Toronto using latitude and longitude values\n",
        "map_ecuador = folium.Map(location=[latitude, longitude], tiles='OpenStreetMap', zoom_start=12)\n",
        "map_ecuador"
      ],
      "execution_count": null,
      "outputs": [
        {
          "output_type": "execute_result",
          "data": {
            "text/html": [
              "<div style=\"width:100%;\"><div style=\"position:relative;width:100%;height:0;padding-bottom:60%;\"><span style=\"color:#565656\">Make this Notebook Trusted to load map: File -> Trust Notebook</span><iframe src=\"about:blank\" style=\"position:absolute;width:100%;height:100%;left:0;top:0;border:none !important;\" data-html=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 onload=\"this.contentDocument.open();this.contentDocument.write(atob(this.getAttribute('data-html')));this.contentDocument.close();\" allowfullscreen webkitallowfullscreen mozallowfullscreen></iframe></div></div>"
            ],
            "text/plain": [
              "<folium.folium.Map at 0x7f6f91755e10>"
            ]
          },
          "metadata": {
            "tags": []
          },
          "execution_count": 12
        }
      ]
    },
    {
      "cell_type": "markdown",
      "metadata": {
        "id": "JbfBLx8qLO5r"
      },
      "source": [
        "Then, I want to obtain the latitude and longitude for each provice in ecuador"
      ]
    },
    {
      "cell_type": "code",
      "metadata": {
        "id": "yL0dnqjhLFkv",
        "outputId": "d697df6b-591c-4b16-9fec-ea104961aa3e",
        "colab": {
          "base_uri": "https://localhost:8080/",
          "height": 195
        }
      },
      "source": [
        "address_list=[]\n",
        "latitude=[]\n",
        "longitude=[]\n",
        "\n",
        "for x in df['Provinces']:\n",
        "  address=str(x)+\",Ecuador\"\n",
        "  geolocator = Nominatim(user_agent=\"ecuador_explorer\")\n",
        "  location = geolocator.geocode(address)\n",
        "  latitude.append(location.latitude)\n",
        "  longitude.append(location.longitude)\n",
        "  \n",
        "df2= pd.DataFrame({'Latitude':latitude,'Longitude':longitude})\n",
        "df2.head()\n"
      ],
      "execution_count": null,
      "outputs": [
        {
          "output_type": "execute_result",
          "data": {
            "text/html": [
              "<div>\n",
              "<style scoped>\n",
              "    .dataframe tbody tr th:only-of-type {\n",
              "        vertical-align: middle;\n",
              "    }\n",
              "\n",
              "    .dataframe tbody tr th {\n",
              "        vertical-align: top;\n",
              "    }\n",
              "\n",
              "    .dataframe thead th {\n",
              "        text-align: right;\n",
              "    }\n",
              "</style>\n",
              "<table border=\"1\" class=\"dataframe\">\n",
              "  <thead>\n",
              "    <tr style=\"text-align: right;\">\n",
              "      <th></th>\n",
              "      <th>Latitude</th>\n",
              "      <th>Longitude</th>\n",
              "    </tr>\n",
              "  </thead>\n",
              "  <tbody>\n",
              "    <tr>\n",
              "      <th>0</th>\n",
              "      <td>-3.052445</td>\n",
              "      <td>-79.239514</td>\n",
              "    </tr>\n",
              "    <tr>\n",
              "      <th>1</th>\n",
              "      <td>-1.539273</td>\n",
              "      <td>-79.081650</td>\n",
              "    </tr>\n",
              "    <tr>\n",
              "      <th>2</th>\n",
              "      <td>-2.574484</td>\n",
              "      <td>-78.980468</td>\n",
              "    </tr>\n",
              "    <tr>\n",
              "      <th>3</th>\n",
              "      <td>0.837516</td>\n",
              "      <td>-78.207515</td>\n",
              "    </tr>\n",
              "    <tr>\n",
              "      <th>4</th>\n",
              "      <td>-1.926263</td>\n",
              "      <td>-78.729780</td>\n",
              "    </tr>\n",
              "  </tbody>\n",
              "</table>\n",
              "</div>"
            ],
            "text/plain": [
              "   Latitude  Longitude\n",
              "0 -3.052445 -79.239514\n",
              "1 -1.539273 -79.081650\n",
              "2 -2.574484 -78.980468\n",
              "3  0.837516 -78.207515\n",
              "4 -1.926263 -78.729780"
            ]
          },
          "metadata": {
            "tags": []
          },
          "execution_count": 13
        }
      ]
    },
    {
      "cell_type": "markdown",
      "metadata": {
        "id": "2qs-wtLiK6Do"
      },
      "source": [
        "Then, I joined the two dataframes and show the results.\n"
      ]
    },
    {
      "cell_type": "code",
      "metadata": {
        "id": "wyoyAPvqSYWu",
        "outputId": "892b6cf6-0b6e-40fa-c0e7-13e20b512375",
        "colab": {
          "base_uri": "https://localhost:8080/",
          "height": 610
        }
      },
      "source": [
        "ecuador = df.combine_first(df2)\n",
        "ecuador.sort_values(['Provinces'], inplace=True)\n",
        "ecuador"
      ],
      "execution_count": null,
      "outputs": [
        {
          "output_type": "execute_result",
          "data": {
            "text/html": [
              "<div>\n",
              "<style scoped>\n",
              "    .dataframe tbody tr th:only-of-type {\n",
              "        vertical-align: middle;\n",
              "    }\n",
              "\n",
              "    .dataframe tbody tr th {\n",
              "        vertical-align: top;\n",
              "    }\n",
              "\n",
              "    .dataframe thead th {\n",
              "        text-align: right;\n",
              "    }\n",
              "</style>\n",
              "<table border=\"1\" class=\"dataframe\">\n",
              "  <thead>\n",
              "    <tr style=\"text-align: right;\">\n",
              "      <th></th>\n",
              "      <th>Confirmed cases</th>\n",
              "      <th>Confirmed deaths</th>\n",
              "      <th>Latitude</th>\n",
              "      <th>Longitude</th>\n",
              "      <th>Probable deaths</th>\n",
              "      <th>Provinces</th>\n",
              "    </tr>\n",
              "  </thead>\n",
              "  <tbody>\n",
              "    <tr>\n",
              "      <th>0</th>\n",
              "      <td>10,658</td>\n",
              "      <td>195</td>\n",
              "      <td>-3.052445</td>\n",
              "      <td>-79.239514</td>\n",
              "      <td>12</td>\n",
              "      <td>Azuay</td>\n",
              "    </tr>\n",
              "    <tr>\n",
              "      <th>1</th>\n",
              "      <td>2,111</td>\n",
              "      <td>66</td>\n",
              "      <td>-1.539273</td>\n",
              "      <td>-79.081650</td>\n",
              "      <td>12</td>\n",
              "      <td>Bolívar</td>\n",
              "    </tr>\n",
              "    <tr>\n",
              "      <th>3</th>\n",
              "      <td>3,053</td>\n",
              "      <td>104</td>\n",
              "      <td>0.837516</td>\n",
              "      <td>-78.207515</td>\n",
              "      <td>1</td>\n",
              "      <td>Carchi</td>\n",
              "    </tr>\n",
              "    <tr>\n",
              "      <th>2</th>\n",
              "      <td>2,110</td>\n",
              "      <td>83</td>\n",
              "      <td>-2.574484</td>\n",
              "      <td>-78.980468</td>\n",
              "      <td>7</td>\n",
              "      <td>Cañar</td>\n",
              "    </tr>\n",
              "    <tr>\n",
              "      <th>4</th>\n",
              "      <td>2,516</td>\n",
              "      <td>315</td>\n",
              "      <td>-1.926263</td>\n",
              "      <td>-78.729780</td>\n",
              "      <td>119</td>\n",
              "      <td>Chimborazo</td>\n",
              "    </tr>\n",
              "    <tr>\n",
              "      <th>5</th>\n",
              "      <td>4,575</td>\n",
              "      <td>281</td>\n",
              "      <td>-0.680595</td>\n",
              "      <td>-78.437764</td>\n",
              "      <td>61</td>\n",
              "      <td>Cotopaxi</td>\n",
              "    </tr>\n",
              "    <tr>\n",
              "      <th>6</th>\n",
              "      <td>4,271</td>\n",
              "      <td>216</td>\n",
              "      <td>0.734362</td>\n",
              "      <td>-79.385887</td>\n",
              "      <td>51</td>\n",
              "      <td>Esmeraldas</td>\n",
              "    </tr>\n",
              "    <tr>\n",
              "      <th>7</th>\n",
              "      <td>227</td>\n",
              "      <td>1</td>\n",
              "      <td>-0.628815</td>\n",
              "      <td>-90.363875</td>\n",
              "      <td>1</td>\n",
              "      <td>Galápagos</td>\n",
              "    </tr>\n",
              "    <tr>\n",
              "      <th>8</th>\n",
              "      <td>22,263</td>\n",
              "      <td>1,737</td>\n",
              "      <td>-2.000000</td>\n",
              "      <td>-80.000000</td>\n",
              "      <td>1,651</td>\n",
              "      <td>Guayas</td>\n",
              "    </tr>\n",
              "    <tr>\n",
              "      <th>9</th>\n",
              "      <td>4,773</td>\n",
              "      <td>170</td>\n",
              "      <td>0.375362</td>\n",
              "      <td>-78.355681</td>\n",
              "      <td>7</td>\n",
              "      <td>Imbabura</td>\n",
              "    </tr>\n",
              "    <tr>\n",
              "      <th>10</th>\n",
              "      <td>6,227</td>\n",
              "      <td>222</td>\n",
              "      <td>-4.052851</td>\n",
              "      <td>-79.805342</td>\n",
              "      <td>44</td>\n",
              "      <td>Loja</td>\n",
              "    </tr>\n",
              "    <tr>\n",
              "      <th>11</th>\n",
              "      <td>11,284</td>\n",
              "      <td>1,025</td>\n",
              "      <td>-0.758803</td>\n",
              "      <td>-80.061213</td>\n",
              "      <td>1,033</td>\n",
              "      <td>Manabí</td>\n",
              "    </tr>\n",
              "    <tr>\n",
              "      <th>12</th>\n",
              "      <td>1,440</td>\n",
              "      <td>74</td>\n",
              "      <td>-0.762647</td>\n",
              "      <td>-77.970188</td>\n",
              "      <td>2</td>\n",
              "      <td>Napo</td>\n",
              "    </tr>\n",
              "    <tr>\n",
              "      <th>13</th>\n",
              "      <td>1,956</td>\n",
              "      <td>53</td>\n",
              "      <td>-0.786180</td>\n",
              "      <td>-76.480318</td>\n",
              "      <td>17</td>\n",
              "      <td>Orellana</td>\n",
              "    </tr>\n",
              "    <tr>\n",
              "      <th>14</th>\n",
              "      <td>2,258</td>\n",
              "      <td>60</td>\n",
              "      <td>-1.916667</td>\n",
              "      <td>-77.000000</td>\n",
              "      <td>15</td>\n",
              "      <td>Pastaza</td>\n",
              "    </tr>\n",
              "    <tr>\n",
              "      <th>15</th>\n",
              "      <td>59,477</td>\n",
              "      <td>1,789</td>\n",
              "      <td>-0.058489</td>\n",
              "      <td>-78.328437</td>\n",
              "      <td>242</td>\n",
              "      <td>Pichincha</td>\n",
              "    </tr>\n",
              "    <tr>\n",
              "      <th>16</th>\n",
              "      <td>2,763</td>\n",
              "      <td>92</td>\n",
              "      <td>-0.039138</td>\n",
              "      <td>-76.511968</td>\n",
              "      <td>2</td>\n",
              "      <td>Sucumbíos</td>\n",
              "    </tr>\n",
              "    <tr>\n",
              "      <th>17</th>\n",
              "      <td>5,119</td>\n",
              "      <td>276</td>\n",
              "      <td>-1.276590</td>\n",
              "      <td>-78.475467</td>\n",
              "      <td>223</td>\n",
              "      <td>Tungurahua</td>\n",
              "    </tr>\n",
              "    <tr>\n",
              "      <th>18</th>\n",
              "      <td>1,580</td>\n",
              "      <td>53</td>\n",
              "      <td>-4.062018</td>\n",
              "      <td>-78.775159</td>\n",
              "      <td>1</td>\n",
              "      <td>Zamora Chinchipe</td>\n",
              "    </tr>\n",
              "  </tbody>\n",
              "</table>\n",
              "</div>"
            ],
            "text/plain": [
              "   Confirmed cases Confirmed deaths  Latitude  Longitude Probable deaths  \\\n",
              "0           10,658              195 -3.052445 -79.239514              12   \n",
              "1            2,111               66 -1.539273 -79.081650              12   \n",
              "3            3,053              104  0.837516 -78.207515               1   \n",
              "2            2,110               83 -2.574484 -78.980468               7   \n",
              "4            2,516              315 -1.926263 -78.729780             119   \n",
              "5            4,575              281 -0.680595 -78.437764              61   \n",
              "6            4,271              216  0.734362 -79.385887              51   \n",
              "7              227                1 -0.628815 -90.363875               1   \n",
              "8           22,263            1,737 -2.000000 -80.000000           1,651   \n",
              "9            4,773              170  0.375362 -78.355681               7   \n",
              "10           6,227              222 -4.052851 -79.805342              44   \n",
              "11          11,284            1,025 -0.758803 -80.061213           1,033   \n",
              "12           1,440               74 -0.762647 -77.970188               2   \n",
              "13           1,956               53 -0.786180 -76.480318              17   \n",
              "14           2,258               60 -1.916667 -77.000000              15   \n",
              "15          59,477            1,789 -0.058489 -78.328437             242   \n",
              "16           2,763               92 -0.039138 -76.511968               2   \n",
              "17           5,119              276 -1.276590 -78.475467             223   \n",
              "18           1,580               53 -4.062018 -78.775159               1   \n",
              "\n",
              "           Provinces  \n",
              "0              Azuay  \n",
              "1            Bolívar  \n",
              "3             Carchi  \n",
              "2              Cañar  \n",
              "4         Chimborazo  \n",
              "5           Cotopaxi  \n",
              "6         Esmeraldas  \n",
              "7          Galápagos  \n",
              "8             Guayas  \n",
              "9           Imbabura  \n",
              "10              Loja  \n",
              "11            Manabí  \n",
              "12              Napo  \n",
              "13          Orellana  \n",
              "14           Pastaza  \n",
              "15         Pichincha  \n",
              "16         Sucumbíos  \n",
              "17        Tungurahua  \n",
              "18  Zamora Chinchipe  "
            ]
          },
          "metadata": {
            "tags": []
          },
          "execution_count": 14
        }
      ]
    },
    {
      "cell_type": "markdown",
      "metadata": {
        "id": "bRPjWV0Ma3dc"
      },
      "source": [
        "The Foursquare API is going to be used to explore the neighborhoods."
      ]
    },
    {
      "cell_type": "code",
      "metadata": {
        "id": "BGeMby27a3DY"
      },
      "source": [
        "CLIENT_ID = 'CB245Q52IIDUCQ1VXR2HBN5HANNGGSNTWW2CZ0K2Z4PQWAZT' # your Foursquare ID\n",
        "CLIENT_SECRET = 'M4O5SZNTHG2JBVJSERHF10H2NC5IX3OMC20IIKHDLA2KHFWB' # your Foursquare Secret\n",
        "VERSION = '20180605' # Foursquare API version\n",
        "LIMIT = 100 # A default Foursquare API limit value"
      ],
      "execution_count": null,
      "outputs": []
    },
    {
      "cell_type": "markdown",
      "metadata": {
        "id": "F8UwW1iXbJnw"
      },
      "source": [
        "I decided to explore Guayaquil, which is the provinces where I live."
      ]
    },
    {
      "cell_type": "code",
      "metadata": {
        "id": "4oKtT5OebRfi",
        "outputId": "98ec04e6-989b-4e3a-e936-7b5006bf8d79",
        "colab": {
          "base_uri": "https://localhost:8080/"
        }
      },
      "source": [
        "print(ecuador[ecuador['Provinces']=='Guayas'].index.values) # First, I get the index of my province.\n",
        "print(ecuador.loc[8, 'Provinces'])\n",
        "guayas_latitude=ecuador.loc[8,'Latitude'] #  guayas latitude value\n",
        "guayas_longitude=ecuador.loc[8,'Longitude']\n",
        "print(\"guayas latitude: {}\".format(guayas_latitude)) # guayas longitude value\n",
        "print(\"guayas longitude: {}\".format(guayas_longitude)) # guayas longitude value"
      ],
      "execution_count": null,
      "outputs": [
        {
          "output_type": "stream",
          "text": [
            "[8]\n",
            "Guayas\n",
            "guayas latitude: -2.0\n",
            "guayas longitude: -80.0\n"
          ],
          "name": "stdout"
        }
      ]
    },
    {
      "cell_type": "markdown",
      "metadata": {
        "id": "E3Pwl_qBffYQ"
      },
      "source": [
        "Now, let's get the top 100 venues that are Guayas within a radius of 1000 meters"
      ]
    },
    {
      "cell_type": "code",
      "metadata": {
        "id": "R9xiHYpJfd--",
        "outputId": "ec895538-3959-44a4-b933-ff9a6bb9c2fa",
        "colab": {
          "base_uri": "https://localhost:8080/",
          "height": 52
        }
      },
      "source": [
        "LIMIT = 100 # limit of number of venues returned by Foursquare API\n",
        "\n",
        "radius = 100000 # define radius\n",
        "\n",
        "url = 'https://api.foursquare.com/v2/venues/explore?&client_id={}&client_secret={}&v={}&ll={},{}&radius={}&limit={}'.format(\n",
        "    CLIENT_ID, \n",
        "    CLIENT_SECRET, \n",
        "    VERSION, \n",
        "    guayas_latitude, \n",
        "    guayas_longitude, \n",
        "    radius, \n",
        "    LIMIT)\n",
        "url # display URL"
      ],
      "execution_count": null,
      "outputs": [
        {
          "output_type": "execute_result",
          "data": {
            "application/vnd.google.colaboratory.intrinsic+json": {
              "type": "string"
            },
            "text/plain": [
              "'https://api.foursquare.com/v2/venues/explore?&client_id=CB245Q52IIDUCQ1VXR2HBN5HANNGGSNTWW2CZ0K2Z4PQWAZT&client_secret=M4O5SZNTHG2JBVJSERHF10H2NC5IX3OMC20IIKHDLA2KHFWB&v=20180605&ll=-2.0,-80.0&radius=100000&limit=100'"
            ]
          },
          "metadata": {
            "tags": []
          },
          "execution_count": 17
        }
      ]
    },
    {
      "cell_type": "markdown",
      "metadata": {
        "id": "KC1H0_snfu68"
      },
      "source": [
        "Send the GET request and examine the results"
      ]
    },
    {
      "cell_type": "code",
      "metadata": {
        "id": "0CGVKRKSfw_6"
      },
      "source": [
        "ec_results = requests.get(url).json()"
      ],
      "execution_count": null,
      "outputs": []
    },
    {
      "cell_type": "markdown",
      "metadata": {
        "id": "LHKM3pQUgLDi"
      },
      "source": [
        "From the Foursquare lab in the previous module, we know that all the information is in the items key. Before we proceed, let's borrow the get_category_type function from the Foursquare lab."
      ]
    },
    {
      "cell_type": "code",
      "metadata": {
        "id": "d-Vz5xS7gKOr"
      },
      "source": [
        "# function that extracts the category of the venue\n",
        "def get_category_type(row):\n",
        "    try:\n",
        "        categories_list = row['categories']\n",
        "    except:\n",
        "        categories_list = row['venue.categories']\n",
        "        \n",
        "    if len(categories_list) == 0:\n",
        "        return None\n",
        "    else:\n",
        "        return categories_list[0]['name']"
      ],
      "execution_count": null,
      "outputs": []
    },
    {
      "cell_type": "markdown",
      "metadata": {
        "id": "i5HH5yV0gdWx"
      },
      "source": [
        "Then, we get the venues."
      ]
    },
    {
      "cell_type": "code",
      "metadata": {
        "id": "for7QgLeggYS",
        "outputId": "82ed761f-a141-4f39-a0dd-63f8fbee73f2",
        "colab": {
          "base_uri": "https://localhost:8080/",
          "height": 229
        }
      },
      "source": [
        "ec_venues = ec_results['response']['groups'][0]['items']\n",
        "    \n",
        "ec_nearby_venues = json_normalize(ec_venues) # flatten JSON\n",
        "\n",
        "# filter columns\n",
        "filtered_columns = ['venue.name', 'venue.categories', 'venue.location.lat', 'venue.location.lng']\n",
        "ec_nearby_venues =ec_nearby_venues.loc[:, filtered_columns]\n",
        "\n",
        "# filter the category for each row\n",
        "ec_nearby_venues['venue.categories'] = ec_nearby_venues.apply(get_category_type, axis=1)\n",
        "\n",
        "# clean columns\n",
        "ec_nearby_venues.columns = [col.split(\".\")[-1] for col in ec_nearby_venues.columns]\n",
        "ec_nearby_venues.head()\n"
      ],
      "execution_count": null,
      "outputs": [
        {
          "output_type": "stream",
          "text": [
            "/usr/local/lib/python3.6/dist-packages/ipykernel_launcher.py:3: FutureWarning: pandas.io.json.json_normalize is deprecated, use pandas.json_normalize instead\n",
            "  This is separate from the ipykernel package so we can avoid doing imports until\n"
          ],
          "name": "stderr"
        },
        {
          "output_type": "execute_result",
          "data": {
            "text/html": [
              "<div>\n",
              "<style scoped>\n",
              "    .dataframe tbody tr th:only-of-type {\n",
              "        vertical-align: middle;\n",
              "    }\n",
              "\n",
              "    .dataframe tbody tr th {\n",
              "        vertical-align: top;\n",
              "    }\n",
              "\n",
              "    .dataframe thead th {\n",
              "        text-align: right;\n",
              "    }\n",
              "</style>\n",
              "<table border=\"1\" class=\"dataframe\">\n",
              "  <thead>\n",
              "    <tr style=\"text-align: right;\">\n",
              "      <th></th>\n",
              "      <th>name</th>\n",
              "      <th>categories</th>\n",
              "      <th>lat</th>\n",
              "      <th>lng</th>\n",
              "    </tr>\n",
              "  </thead>\n",
              "  <tbody>\n",
              "    <tr>\n",
              "      <th>0</th>\n",
              "      <td>Supercines</td>\n",
              "      <td>Movie Theater</td>\n",
              "      <td>-2.054415</td>\n",
              "      <td>-79.874699</td>\n",
              "    </tr>\n",
              "    <tr>\n",
              "      <th>1</th>\n",
              "      <td>Wine Bar</td>\n",
              "      <td>Wine Bar</td>\n",
              "      <td>-2.099587</td>\n",
              "      <td>-79.874460</td>\n",
              "    </tr>\n",
              "    <tr>\n",
              "      <th>2</th>\n",
              "      <td>Embarcadero 41 Fusión</td>\n",
              "      <td>Peruvian Restaurant</td>\n",
              "      <td>-2.098402</td>\n",
              "      <td>-79.875182</td>\n",
              "    </tr>\n",
              "    <tr>\n",
              "      <th>3</th>\n",
              "      <td>Plaza Lagos Town Center</td>\n",
              "      <td>Shopping Mall</td>\n",
              "      <td>-2.098301</td>\n",
              "      <td>-79.875011</td>\n",
              "    </tr>\n",
              "    <tr>\n",
              "      <th>4</th>\n",
              "      <td>Parque Samanes</td>\n",
              "      <td>Park</td>\n",
              "      <td>-2.103924</td>\n",
              "      <td>-79.903865</td>\n",
              "    </tr>\n",
              "  </tbody>\n",
              "</table>\n",
              "</div>"
            ],
            "text/plain": [
              "                      name           categories       lat        lng\n",
              "0               Supercines        Movie Theater -2.054415 -79.874699\n",
              "1                 Wine Bar             Wine Bar -2.099587 -79.874460\n",
              "2    Embarcadero 41 Fusión  Peruvian Restaurant -2.098402 -79.875182\n",
              "3  Plaza Lagos Town Center        Shopping Mall -2.098301 -79.875011\n",
              "4           Parque Samanes                 Park -2.103924 -79.903865"
            ]
          },
          "metadata": {
            "tags": []
          },
          "execution_count": 20
        }
      ]
    },
    {
      "cell_type": "markdown",
      "metadata": {
        "id": "Ny2oETphgsLA"
      },
      "source": [
        "100 venues were returned."
      ]
    },
    {
      "cell_type": "code",
      "metadata": {
        "id": "JxRAyD1JgwbY",
        "outputId": "b2eacdcd-db95-4300-f2a8-629b97b33b0b",
        "colab": {
          "base_uri": "https://localhost:8080/"
        }
      },
      "source": [
        "print('{} venues were returned by Foursquare.'.format(ec_nearby_venues.shape[0]))"
      ],
      "execution_count": null,
      "outputs": [
        {
          "output_type": "stream",
          "text": [
            "100 venues were returned by Foursquare.\n"
          ],
          "name": "stdout"
        }
      ]
    },
    {
      "cell_type": "markdown",
      "metadata": {
        "id": "Yg6Mw4ClhIXN"
      },
      "source": [
        "Explore provinces in Ecuador"
      ]
    },
    {
      "cell_type": "code",
      "metadata": {
        "id": "5vhKZOuihBzh"
      },
      "source": [
        "def getNearbyVenues(names, latitudes, longitudes, radius=100000):\n",
        "    \n",
        "    venues_list=[]\n",
        "    for name, lat, lng in zip(names, latitudes, longitudes):\n",
        "        print(name)\n",
        "            \n",
        "        # create the API request URL\n",
        "        url = 'https://api.foursquare.com/v2/venues/explore?&client_id={}&client_secret={}&v={}&ll={},{}&radius={}&limit={}'.format(\n",
        "            CLIENT_ID, \n",
        "            CLIENT_SECRET, \n",
        "            VERSION, \n",
        "            lat, \n",
        "            lng, \n",
        "            radius, \n",
        "            LIMIT)\n",
        "            \n",
        "        # make the GET request\n",
        "        results = requests.get(url).json()[\"response\"]['groups'][0]['items']\n",
        "        \n",
        "        # return only relevant information for each nearby venue\n",
        "        venues_list.append([(\n",
        "            name, \n",
        "            lat, \n",
        "            lng, \n",
        "            v['venue']['name'], \n",
        "            v['venue']['location']['lat'], \n",
        "            v['venue']['location']['lng'],  \n",
        "            v['venue']['categories'][0]['name']) for v in results])\n",
        "\n",
        "    nearby_venues = pd.DataFrame([item for venue_list in venues_list for item in venue_list])\n",
        "    nearby_venues.columns = ['Neighborhood', \n",
        "                  'Neighborhood Latitude', \n",
        "                  'Neighborhood Longitude', \n",
        "                  'Venue', \n",
        "                  'Venue Latitude', \n",
        "                  'Venue Longitude', \n",
        "                  'Venue Category']\n",
        "    \n",
        "    return(nearby_venues)"
      ],
      "execution_count": null,
      "outputs": []
    },
    {
      "cell_type": "code",
      "metadata": {
        "id": "Orx45zY_hUI7",
        "outputId": "6860b13e-d437-4f6d-f98b-37bf2455ee76",
        "colab": {
          "base_uri": "https://localhost:8080/"
        }
      },
      "source": [
        "ecuador_venues = getNearbyVenues(names=ecuador['Provinces'],\n",
        "                                   latitudes=ecuador['Latitude'],\n",
        "                                   longitudes=ecuador['Longitude']\n",
        "                                  )"
      ],
      "execution_count": null,
      "outputs": [
        {
          "output_type": "stream",
          "text": [
            "Azuay\n",
            "Bolívar\n",
            "Carchi\n",
            "Cañar\n",
            "Chimborazo\n",
            "Cotopaxi\n",
            "Esmeraldas\n",
            "Galápagos\n",
            "Guayas\n",
            "Imbabura\n",
            "Loja\n",
            "Manabí\n",
            "Napo\n",
            "Orellana\n",
            "Pastaza\n",
            "Pichincha\n",
            "Sucumbíos\n",
            "Tungurahua\n",
            "Zamora Chinchipe\n"
          ],
          "name": "stdout"
        }
      ]
    },
    {
      "cell_type": "markdown",
      "metadata": {
        "id": "Dn8UTemMiH7k"
      },
      "source": [
        "Let's check the size of the resulting dataframe"
      ]
    },
    {
      "cell_type": "code",
      "metadata": {
        "id": "DODQhx0liKCl",
        "outputId": "9d695f4e-f534-4a74-8620-99bb40da3787",
        "colab": {
          "base_uri": "https://localhost:8080/"
        }
      },
      "source": [
        "print(ecuador_venues.shape)"
      ],
      "execution_count": null,
      "outputs": [
        {
          "output_type": "stream",
          "text": [
            "(1236, 7)\n"
          ],
          "name": "stdout"
        }
      ]
    },
    {
      "cell_type": "code",
      "metadata": {
        "id": "cZpJS92BkYCQ"
      },
      "source": [
        "# add markers to map\n",
        "for lat, lng, provinces, confirmedCases, ConfirmedDeaths in zip(ecuador['Latitude'], ecuador['Longitude'], ecuador['Provinces'], ecuador['Confirmed cases'], ecuador['Confirmed deaths']):\n",
        "    label = 'Provinces: {}, Confirmed Cases: {}, Deaths: {}'.format(provinces, confirmedCases ,ConfirmedDeaths)\n",
        "    label = folium.Popup(label, parse_html=True)\n",
        "    folium.CircleMarker(\n",
        "        [lat, lng],\n",
        "        radius=(5*float(confirmedCases.replace(',',''))/59477),\n",
        "        popup=label,\n",
        "        color='red',\n",
        "        fill='red',\n",
        "        fill_color='#FF0000',\n",
        "        fill_opacity=(float(confirmedCases.replace(',',''))/59477),\n",
        "        parse_html=False).add_to(map_ecuador)\n",
        "  \n",
        "\n",
        "    \n"
      ],
      "execution_count": null,
      "outputs": []
    },
    {
      "cell_type": "code",
      "metadata": {
        "id": "T2cqpoN7oE3t",
        "outputId": "7f0671ae-3a93-437b-f150-5173db651045",
        "colab": {
          "base_uri": "https://localhost:8080/",
          "height": 866
        }
      },
      "source": [
        "map_ecuador"
      ],
      "execution_count": null,
      "outputs": [
        {
          "output_type": "execute_result",
          "data": {
            "text/html": [
              "<div style=\"width:100%;\"><div style=\"position:relative;width:100%;height:0;padding-bottom:60%;\"><span style=\"color:#565656\">Make this Notebook Trusted to load map: File -> Trust Notebook</span><iframe src=\"about:blank\" style=\"position:absolute;width:100%;height:100%;left:0;top:0;border:none !important;\" data-html=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 onload=\"this.contentDocument.open();this.contentDocument.write(atob(this.getAttribute('data-html')));this.contentDocument.close();\" allowfullscreen webkitallowfullscreen mozallowfullscreen></iframe></div></div>"
            ],
            "text/plain": [
              "<folium.folium.Map at 0x7f6f91755e10>"
            ]
          },
          "metadata": {
            "tags": []
          },
          "execution_count": 28
        }
      ]
    },
    {
      "cell_type": "markdown",
      "metadata": {
        "id": "Mfd5MQKyxzrr"
      },
      "source": [
        "**Conclusion:** With this information, I conclude that Pichincha is most dangerous provinces to visit. "
      ]
    },
    {
      "cell_type": "markdown",
      "metadata": {
        "id": "t7xQpWtxyx_t"
      },
      "source": [
        "I can make more further analysis about this data. This analysis will continue on week 5."
      ]
    }
  ]
}