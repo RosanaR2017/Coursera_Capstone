{
  "nbformat": 4,
  "nbformat_minor": 0,
  "metadata": {
    "colab": {
      "name": "Monitoria.ipynb",
      "provenance": [],
      "collapsed_sections": [],
      "authorship_tag": "ABX9TyP4d0/s+gozS171ehgPR37/",
      "include_colab_link": true
    },
    "kernelspec": {
      "name": "python3",
      "display_name": "Python 3"
    }
  },
  "cells": [
    {
      "cell_type": "markdown",
      "metadata": {
        "id": "view-in-github",
        "colab_type": "text"
      },
      "source": [
        "<a href=\"https://colab.research.google.com/github/RosanaR2017/Coursera_Capstone/blob/master/Monitoria.ipynb\" target=\"_parent\"><img src=\"https://colab.research.google.com/assets/colab-badge.svg\" alt=\"Open In Colab\"/></a>"
      ]
    },
    {
      "cell_type": "code",
      "metadata": {
        "id": "JMS4ETUdaO04",
        "outputId": "af08dd16-3407-415c-bfda-20909f40b361",
        "colab": {
          "base_uri": "https://localhost:8080/",
          "height": 185
        }
      },
      "source": [
        "import json \n",
        "import requests\n",
        "from pprint import pprint \n",
        "\n",
        "def get_address(pendientes):    #PENDIENTE EN PROCESO ***ME TOCO PASARLO A LISTA PORQUE SUPUESTAMENTE EN DICCIONARIOS NO SE PUEDE ITERAR.\n",
        "  try:\n",
        "    llaves = list(pendientes.keys())\n",
        "    print(llaves[3]+\":\",pendientes[\"age\"])\n",
        "  except:\n",
        "    print(\"Problemas en la función get_address\")\n",
        "\n",
        "def get_addressv2(pendientes): #Prueba de que el diccionario no guarda los valores en ordenes por indice. \n",
        "  try:\n",
        "    key = list(pendientes.items())[1]\n",
        "    print(key)\n",
        "  except:\n",
        "    print(\"Problemas en la función get_addressv2\")\n",
        "    \n",
        "def iteraccion(pendientes):   \n",
        "    for keys in pendientes.keys(): \n",
        "      if keys ==\"age\" : print(keys, \":\", pendientes[\"age\"])\n",
        "\n",
        "def print_completeAddress(pendientes):\n",
        "    for k,v in pendientes[\"address\"].items():\n",
        "        print(k,\":\",v)\n",
        "\n",
        "def main():\n",
        "    try:\n",
        "        input= \"https://tools.learningcontainer.com/sample-json.json\"\n",
        "        response=requests.get(input)\n",
        "        pendientes = json.loads(response.text)\n",
        "        #pprint(pendientes)    Si desea ver le Json descomente esta línea.\n",
        "        get_address(pendientes)\n",
        "    except:\n",
        "        pprint(\"Problemas de cargue de JSON\")\n",
        "\n",
        "if __name__== \"__main__\" :\n",
        "    main()"
      ],
      "execution_count": 63,
      "outputs": [
        {
          "output_type": "stream",
          "text": [
            "{'address': {'city': 'Surat',\n",
            "             'postalCode': '394221',\n",
            "             'state': 'GJ',\n",
            "             'streetAddress': '126 Udhna'},\n",
            " 'age': 24,\n",
            " 'firstName': 'Rajesh',\n",
            " 'gender': 'man',\n",
            " 'lastName': 'Kumar',\n",
            " 'phoneNumbers': [{'number': '7383627627', 'type': 'home'}]}\n",
            "age: 24\n"
          ],
          "name": "stdout"
        }
      ]
    }
  ]
}