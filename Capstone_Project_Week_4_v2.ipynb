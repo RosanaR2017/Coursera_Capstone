{
    "cells": [
        {
            "metadata": {
                "id": "-_0DzvBiLaHI",
                "outputId": "fc6c654e-5d17-4860-d215-8eedbb4428b0",
                "colab": {
                    "base_uri": "https://localhost:8080/"
                }
            },
            "cell_type": "code",
            "source": "!pip install folium\n!pip install PyPDF2\n!pip install urllib3\n!pip install pdfminer\n!pip3 install table_ocr",
            "execution_count": 1,
            "outputs": [
                {
                    "output_type": "stream",
                    "text": "Collecting folium\n  Downloading folium-0.11.0-py2.py3-none-any.whl (93 kB)\n\u001b[K     |\u2588\u2588\u2588\u2588\u2588\u2588\u2588\u2588\u2588\u2588\u2588\u2588\u2588\u2588\u2588\u2588\u2588\u2588\u2588\u2588\u2588\u2588\u2588\u2588\u2588\u2588\u2588\u2588\u2588\u2588\u2588\u2588| 93 kB 2.8 MB/s eta 0:00:011\n\u001b[?25hRequirement already satisfied: requests in /opt/conda/envs/Python-3.7-main/lib/python3.7/site-packages (from folium) (2.24.0)\nCollecting branca>=0.3.0\n  Downloading branca-0.4.1-py3-none-any.whl (24 kB)\nRequirement already satisfied: numpy in /opt/conda/envs/Python-3.7-main/lib/python3.7/site-packages (from folium) (1.18.5)\nRequirement already satisfied: jinja2>=2.9 in /opt/conda/envs/Python-3.7-main/lib/python3.7/site-packages (from folium) (2.11.2)\nRequirement already satisfied: urllib3!=1.25.0,!=1.25.1,<1.26,>=1.21.1 in /opt/conda/envs/Python-3.7-main/lib/python3.7/site-packages (from requests->folium) (1.25.9)\nRequirement already satisfied: idna<3,>=2.5 in /opt/conda/envs/Python-3.7-main/lib/python3.7/site-packages (from requests->folium) (2.9)\nRequirement already satisfied: certifi>=2017.4.17 in /opt/conda/envs/Python-3.7-main/lib/python3.7/site-packages (from requests->folium) (2020.6.20)\nRequirement already satisfied: chardet<4,>=3.0.2 in /opt/conda/envs/Python-3.7-main/lib/python3.7/site-packages (from requests->folium) (3.0.4)\nRequirement already satisfied: MarkupSafe>=0.23 in /opt/conda/envs/Python-3.7-main/lib/python3.7/site-packages (from jinja2>=2.9->folium) (1.1.1)\nInstalling collected packages: branca, folium\nSuccessfully installed branca-0.4.1 folium-0.11.0\nCollecting PyPDF2\n  Downloading PyPDF2-1.26.0.tar.gz (77 kB)\n\u001b[K     |\u2588\u2588\u2588\u2588\u2588\u2588\u2588\u2588\u2588\u2588\u2588\u2588\u2588\u2588\u2588\u2588\u2588\u2588\u2588\u2588\u2588\u2588\u2588\u2588\u2588\u2588\u2588\u2588\u2588\u2588\u2588\u2588| 77 kB 6.1 MB/s eta 0:00:011\n\u001b[?25hBuilding wheels for collected packages: PyPDF2\n  Building wheel for PyPDF2 (setup.py) ... \u001b[?25ldone\n\u001b[?25h  Created wheel for PyPDF2: filename=PyPDF2-1.26.0-py3-none-any.whl size=61084 sha256=bcf11225beeb8f036d234b957a1d10e6534700815311b53388636ece089c4cea\n  Stored in directory: /tmp/wsuser/.cache/pip/wheels/80/1a/24/648467ade3a77ed20f35cfd2badd32134e96dd25ca811e64b3\nSuccessfully built PyPDF2\nInstalling collected packages: PyPDF2\nSuccessfully installed PyPDF2-1.26.0\nRequirement already satisfied: urllib3 in /opt/conda/envs/Python-3.7-main/lib/python3.7/site-packages (1.25.9)\nCollecting pdfminer\n  Downloading pdfminer-20191125.tar.gz (4.2 MB)\n\u001b[K     |\u2588\u2588\u2588\u2588\u2588\u2588\u2588\u2588\u2588\u2588\u2588\u2588\u2588\u2588\u2588\u2588\u2588\u2588\u2588\u2588\u2588\u2588\u2588\u2588\u2588\u2588\u2588\u2588\u2588\u2588\u2588\u2588| 4.2 MB 11.1 MB/s eta 0:00:01\n\u001b[?25hCollecting pycryptodome\n  Downloading pycryptodome-3.9.9-cp37-cp37m-manylinux1_x86_64.whl (13.7 MB)\n\u001b[K     |\u2588\u2588\u2588\u2588\u2588\u2588\u2588\u2588\u2588\u2588\u2588\u2588\u2588\u2588\u2588\u2588\u2588\u2588\u2588\u2588\u2588\u2588\u2588\u2588\u2588\u2588\u2588\u2588\u2588\u2588\u2588\u2588| 13.7 MB 52.6 MB/s eta 0:00:01\n\u001b[?25hBuilding wheels for collected packages: pdfminer\n  Building wheel for pdfminer (setup.py) ... \u001b[?25ldone\n\u001b[?25h  Created wheel for pdfminer: filename=pdfminer-20191125-py3-none-any.whl size=6140055 sha256=f6c82490e570466f30f27ea285624bd3e69091b5c25207a830f4d5e8cb4618ce\n  Stored in directory: /tmp/wsuser/.cache/pip/wheels/e3/5e/f4/d210b46e9e4a28229ea070ed5b3efa92c3c29d1a7918dd4b97\nSuccessfully built pdfminer\nInstalling collected packages: pycryptodome, pdfminer\nSuccessfully installed pdfminer-20191125 pycryptodome-3.9.9\nCollecting table_ocr\n  Downloading table_ocr-0.2.4-py3-none-any.whl (33.4 MB)\n\u001b[K     |\u2588\u2588\u2588\u2588\u2588\u2588\u2588\u2588\u2588\u2588\u2588\u2588\u2588\u2588\u2588\u2588\u2588\u2588\u2588\u2588\u2588\u2588\u2588\u2588\u2588\u2588\u2588\u2588\u2588\u2588\u2588\u2588| 33.4 MB 11.4 MB/s eta 0:00:01\n\u001b[?25hCollecting opencv-python~=4.2\n  Downloading opencv_python-4.4.0.44-cp37-cp37m-manylinux2014_x86_64.whl (49.5 MB)\n\u001b[K     |\u2588\u2588\u2588\u2588\u2588\u2588\u2588\u2588\u2588\u2588\u2588\u2588\u2588\u2588\u2588\u2588\u2588\u2588\u2588\u2588\u2588\u2588\u2588\u2588\u2588\u2588\u2588\u2588\u2588\u2588\u2588\u2588| 49.5 MB 11.9 MB/s eta 0:00:01\n\u001b[?25hCollecting pytesseract~=0.3\n  Downloading pytesseract-0.3.6.tar.gz (13 kB)\nRequirement already satisfied: requests>=2 in /opt/conda/envs/Python-3.7-main/lib/python3.7/site-packages (from table_ocr) (2.24.0)\nCollecting numpy~=1.19\n  Downloading numpy-1.19.3-cp37-cp37m-manylinux2010_x86_64.whl (14.9 MB)\n\u001b[K     |\u2588\u2588\u2588\u2588\u2588\u2588\u2588\u2588\u2588\u2588\u2588\u2588\u2588\u2588\u2588\u2588\u2588\u2588\u2588\u2588\u2588\u2588\u2588\u2588\u2588\u2588\u2588\u2588\u2588\u2588\u2588\u2588| 14.9 MB 45.7 MB/s eta 0:00:01\n\u001b[?25hRequirement already satisfied: Pillow in /opt/conda/envs/Python-3.7-main/lib/python3.7/site-packages (from pytesseract~=0.3->table_ocr) (7.2.0)\nRequirement already satisfied: idna<3,>=2.5 in /opt/conda/envs/Python-3.7-main/lib/python3.7/site-packages (from requests>=2->table_ocr) (2.9)\nRequirement already satisfied: certifi>=2017.4.17 in /opt/conda/envs/Python-3.7-main/lib/python3.7/site-packages (from requests>=2->table_ocr) (2020.6.20)\nRequirement already satisfied: urllib3!=1.25.0,!=1.25.1,<1.26,>=1.21.1 in /opt/conda/envs/Python-3.7-main/lib/python3.7/site-packages (from requests>=2->table_ocr) (1.25.9)\nRequirement already satisfied: chardet<4,>=3.0.2 in /opt/conda/envs/Python-3.7-main/lib/python3.7/site-packages (from requests>=2->table_ocr) (3.0.4)\nBuilding wheels for collected packages: pytesseract\n  Building wheel for pytesseract (setup.py) ... \u001b[?25ldone\n\u001b[?25h  Created wheel for pytesseract: filename=pytesseract-0.3.6-py2.py3-none-any.whl size=13631 sha256=0bc894938662e1ff8cd0f87b992faed3d22ea04ac96cc7bc7e6d489ec67d0c22\n  Stored in directory: /tmp/wsuser/.cache/pip/wheels/f1/2f/a5/574c57fb22cfcf24f315c8feda132fd0463a9b07ef78394d07\nSuccessfully built pytesseract\n\u001b[31mERROR: tensorflow 2.1.0 has requirement scipy==1.4.1; python_version >= \"3\", but you'll have scipy 1.5.0 which is incompatible.\u001b[0m\nInstalling collected packages: numpy, opencv-python, pytesseract, table-ocr\n  Attempting uninstall: numpy\n    Found existing installation: numpy 1.18.5\n    Uninstalling numpy-1.18.5:\n      Successfully uninstalled numpy-1.18.5\nSuccessfully installed numpy-1.19.3 opencv-python-4.4.0.44 pytesseract-0.3.6 table-ocr-0.2.4\n",
                    "name": "stdout"
                }
            ]
        },
        {
            "metadata": {
                "id": "yfndDF_zLaHR"
            },
            "cell_type": "markdown",
            "source": "## 1. Importing Libraries:"
        },
        {
            "metadata": {
                "id": "7Lt1-xTBLaHS",
                "outputId": "74c44882-abd2-46dc-9a87-f6c602b68834",
                "colab": {
                    "base_uri": "https://localhost:8080/"
                }
            },
            "cell_type": "code",
            "source": "import numpy as np # library to handle data in a vectorized manner\nfrom pprint import pprint\n\nimport pandas as pd # library for data analysis\npd.set_option('display.max_columns', None)\npd.set_option('display.max_rows', None)\n\nimport json # library to handle JSON files\nfrom pandas.io.json import json_normalize # tranform JSON file into a pandas dataframe\n\nimport requests # library to handle requests\nfrom bs4 import BeautifulSoup # library to parse HTML documents\nfrom urllib.request import urlopen\n\nfrom geopy.geocoders import Nominatim # convert an address into latitude and longitude values\n\n# Matplotlib and associated plotting modules\nimport matplotlib.cm as cm\nimport matplotlib.colors as colors\n\n# import k-means from clustering stage\nfrom sklearn.cluster import KMeans\n\n#!conda install -c conda-forge folium=0.5.0 --yes # uncomment this line if you haven't completed the Foursquare API lab\nimport folium # map rendering library\n\n#Library to extract text and data from pdf format\nimport PyPDF2\nimport urllib3\nfrom io import StringIO\nimport io\n\nprint('Libraries imported.')",
            "execution_count": 2,
            "outputs": [
                {
                    "output_type": "stream",
                    "text": "Libraries imported.\n",
                    "name": "stdout"
                }
            ]
        },
        {
            "metadata": {
                "id": "ywTgsWViSIdG"
            },
            "cell_type": "markdown",
            "source": "# **1. Introduction**\n\nThe first human cases of COVID-19 were identified in Wuhan, Hubei, China, in December 2019. As a result of COVID-19 many regions have imposed lockdowns, curfews and quarantines alongside new legislation and evacuations, or other restrictions for citizens of or recent travelers to the most affected areas.[1] Other regions have imposed global restrictions that apply to all foreign countries and territories, or prevent their own citizens from travelling overseas.[2]\nThe pandemic was confirmed to have reached South America on 26 February 2020 when Brazil confirmed a case in S\u00e3o Paulo.[3] By 3 April, all countries and territories in South America had recorded at least one case.[4]\nIn Ecuador, the virus was reported to have spread to Ecuador on 29 February 2020 when a woman in her 70s tested positive for the virus. This disease has caused a several disrupt in the economy and life for every citizen in Ecuador. As result, this project is targeted to get more knowledge about this disease. Spefically, finding hot spots and warn people about the situation of each province in Ecuador. \n\nReferency entry:\n1. \"Coronavirus Travel Restrictions, Across the Globe\". The New York Times. 26 March 2020.\n2. \"Coronavirus (COVID-19) \u2013 information for Australian travelers\". Australian Government. Retrieved 4 September 2020.\n3. Horwitz L, Nagovitch P, Sonnel HK, Zissis C. \"Where Is the Coronavirus in Latin America?\". AS/COA. Archived from the original on 22 March 2020. Retrieved 22 March 2020.\n4. \"Uncollected bodies lie for days in the streets of Ecuador the emerging epicentre of the coronavirus in Latin America\". Stuff/Fairfax. 4 April 2020."
        },
        {
            "metadata": {
                "id": "tI_hWHPvLaHW"
            },
            "cell_type": "markdown",
            "source": "## **2. Description of the problem**\n"
        },
        {
            "metadata": {
                "id": "qC5xQ86mH5A3"
            },
            "cell_type": "markdown",
            "source": "\"*Ecuador has one of the highest per capita Covid-19 deaths rates in the world, according to research from Johns Hopkins University. A New York Times analysis of over two dozen countries found that Ecuador had one of the highest excess death rate* \"[1] . Therefore, as a current resident of Ecuador, I am concerned about my family safety in this country ,and I want to know where are located the highest spot of Covid in this country. This information will help helpful to travel within this country and acknowledge Ecuadorians where they Ecuador can stay safely from this brutal disease. \n\n**Reference entry:**\n1. url: Noah Smith, [Covid-19 in Ecuador: An Exclusive Q&A with Ecuador\u2019s Ambassador to the U.S.](https://reliefweb.int/report/ecuador/covid-19-ecuador-exclusive-qa-ecuador-s-ambassador-us)\n"
        },
        {
            "metadata": {
                "id": "s6PecEpJP7Db"
            },
            "cell_type": "markdown",
            "source": "## **2.1. Background**"
        },
        {
            "metadata": {
                "id": "uZQeuyF9QBh2"
            },
            "cell_type": "markdown",
            "source": "**Country-Specific Information:**\n\n1.   Ecuador has confirmed positive cases of COVID-19 in all 24 provinces.\n2.   On August 6, the U.S. Department of State removed the Global Health Advisory Level 4. Ecuador is now listed as Level 3: Reconsider Travel[1].\n3.   The COVID-19 pandemic in Ecuador is part of the worldwide pandemic of coronavirus disease 2019 (COVID-19) caused by severe acute respiratory syndrome coronavirus 2 (SARS-CoV-2). The virus was reported to have spread to Ecuador on 29 February 2020 when a woman in her 70s tested positive for the virus. Ecuador was described in April as emerging as a possible \"epicentre\" of the pandemic in Latin America,[2] with the city of Guayaquil overwhelmed to the point where bodies were being left in the street[3].\n\n\n**Reference entry:**\n1. url: CS Unit, 19 October, 2020 url: https://ec.usembassy.gov/covid-19-information-ecu-2/\n2.\"Uncollected bodies lie for days in the streets of Ecuador the emerging epicentre of the coronavirus in Latin America\". Stuff/Fairfax. 4 April 2020.\n3. \"Ecuador coronavirus: Bodies are being left in the streets in an overwhelmed city\". msn.com. Retrieved 5 April 2020.\n\n\n"
        },
        {
            "metadata": {},
            "cell_type": "markdown",
            "source": "## **2.2. Target audience**"
        },
        {
            "metadata": {},
            "cell_type": "markdown",
            "source": "- Ecuadorians\n- People who is interested to visit Ecuador."
        },
        {
            "metadata": {
                "id": "M_1Mp8ZZLaHY"
            },
            "cell_type": "markdown",
            "source": "### **3. Description of Data:**\nI am usig several input of data:\n\n1.   The first input of data that I am using is from wikipedia. Specifically, it is a page with data about COVID-19 pandemic in Ecuador.\n\n  URL: \"https://en.wikipedia.org/wiki/COVID-19_pandemic_in_Ecuador\"\n\n    \n\n*   This URL has information about how many confirmed cases and deaths are in 19_pandemic_in_Ecuador Ecuador. This data is classified by each province in Ecuador.  \n\n2.   The second input of data are the geolocation data of each provinces in Ecuador. This information was extracted using geopy locator and can provide the latitude and longitude of each province in Ecuador.\n\n3. The final data are the nearby venues in Ecuador that were extracted using the API foursquare. This data will help to correlate a cluster Covid hotspots in Ecuador. \n\n\n"
        },
        {
            "metadata": {
                "id": "A78hvI0-Yub-"
            },
            "cell_type": "markdown",
            "source": "### **4. Methodology**\n\nThere are several methodology implemented within this project. The following include:\n\n*   Web scrapping.\n*   Organization an collection of data.\n*   Geolocation of ach province and nearby venues.\n*   Plotting with folium. \n\n"
        },
        {
            "metadata": {
                "id": "lkxUgLTlZaTA"
            },
            "cell_type": "markdown",
            "source": "### ***5. Results section***"
        },
        {
            "metadata": {
                "id": "9l4FQKrsLaID"
            },
            "cell_type": "markdown",
            "source": "### Using web scrapping and beautiful soup to extract data from a wikipedia page."
        },
        {
            "metadata": {
                "id": "OB0HYv1uLaIH"
            },
            "cell_type": "code",
            "source": "wiki_URL=\"https://en.wikipedia.org/wiki/COVID-19_pandemic_in_Ecuador\"",
            "execution_count": 3,
            "outputs": []
        },
        {
            "metadata": {
                "id": "vWcX_nWvLaIK"
            },
            "cell_type": "code",
            "source": "#from inspecting element you get the class wikitable sortable jquery-tablesorter\nresponse=requests.get(wiki_URL)",
            "execution_count": 4,
            "outputs": []
        },
        {
            "metadata": {
                "id": "bGX2L-tiRE0N"
            },
            "cell_type": "code",
            "source": "soup = BeautifulSoup(response.text,'lxml')\ntable=soup.find('table',{'class':'wikitable'}).tbody",
            "execution_count": 5,
            "outputs": []
        },
        {
            "metadata": {
                "id": "Z38MlFHSwZFS"
            },
            "cell_type": "markdown",
            "source": ""
        },
        {
            "metadata": {
                "id": "_RAieEHAwZku"
            },
            "cell_type": "markdown",
            "source": "### First, I cleaned the HTML headers by converting it to text and using remove_html tags function.\n"
        },
        {
            "metadata": {
                "id": "KzWqJv_rOGBO"
            },
            "cell_type": "code",
            "source": "def remove_html_tags(text):\n    \"\"\"Remove html tags from a string\"\"\"\n    import re\n    clean = re.compile(r'(<[^\\>]*>)|(\\n)|(\\xa0)') \n    return re.sub(clean, '', text) ",
            "execution_count": 6,
            "outputs": []
        },
        {
            "metadata": {
                "id": "-I6I5LSGT87x",
                "outputId": "5e71b72e-2362-45b6-f34d-2b7e7b60ea7e",
                "colab": {
                    "base_uri": "https://localhost:8080/"
                }
            },
            "cell_type": "code",
            "source": "header=[]\nfor th in table.find_all('th'):\n  header.append(str(th))\nheader=list(map(remove_html_tags,header[0:4]))\npprint(header)",
            "execution_count": 7,
            "outputs": [
                {
                    "output_type": "stream",
                    "text": "['Provinces', 'Confirmed cases', 'Confirmed deaths', 'Probable deaths']\n",
                    "name": "stdout"
                }
            ]
        },
        {
            "metadata": {
                "id": "RTO45XFfPWji",
                "outputId": "538d3eee-2006-4f9f-9705-0d694fa1acc4",
                "colab": {
                    "base_uri": "https://localhost:8080/"
                }
            },
            "cell_type": "code",
            "source": "rows = []\nfor td in table.find_all('td'):\n    rows.append(str(td))\nrows=list(map(remove_html_tags,rows))\nprint(rows, sep=\",\")",
            "execution_count": 8,
            "outputs": [
                {
                    "output_type": "stream",
                    "text": "['Azuay', '10,658', '195', '12', 'Bol\u00edvar', '2,111', '66', '12', 'Ca\u00f1ar', '2,110', '83', '7', 'Carchi', '3,053', '104', '1', 'Chimborazo', '2,516', '315', '119', 'Cotopaxi', '4,575', '281', '61', 'El Oro', '6,477', '466', '185', 'Esmeraldas', '4,271', '216', '51', 'Gal\u00e1pagos', '227', '1', '1', 'Guayas', '22,263', '1,737', '1,651', 'Imbabura', '4,773', '170', '7', 'Loja', '6,227', '222', '44', 'Los R\u00edos', '4,017', '342', '237', 'Manab\u00ed', '11,284', '1,025', '1,033', 'Morona Santiago', '3,008', '22', '0', 'Napo', '1,440', '74', '2', 'Orellana', '1,956', '53', '17', 'Pastaza', '2,258', '60', '15', 'Pichincha', '59,477', '1,789', '242', 'Santa Elena', '1,738', '368', '274', 'Santo Domingo de los Ts\u00e1chilas', '5,293', '361', '116', 'Sucumb\u00edos', '2,763', '92', '2', 'Tungurahua', '5,119', '276', '223', 'Zamora Chinchipe', '1,580', '53', '1']\n",
                    "name": "stdout"
                }
            ]
        },
        {
            "metadata": {
                "id": "jCFVksU8xuE5"
            },
            "cell_type": "markdown",
            "source": "After cleaning our colums and rows, I am going to construct the dataframe. "
        },
        {
            "metadata": {
                "id": "rZ0CmJnD2Jr1"
            },
            "cell_type": "markdown",
            "source": "1. First, I construct a list with the provinces  with its data  where each province has it owns data contained in a list. "
        },
        {
            "metadata": {
                "id": "pBELia-rLaIY",
                "outputId": "79fc74eb-c578-4187-de3a-2d16d124aab8",
                "colab": {
                    "base_uri": "https://localhost:8080/"
                }
            },
            "cell_type": "code",
            "source": "dict_kv=[]\nfor i in range(0, len(rows)):\n  if (rows[i].strip().isalpha()):  \n    dict_kv.append([rows[i],rows[i+1],rows[i+2],rows[i+3]])\n    \n  \ndict_kv.append([rows[92],rows[93],rows[94],rows[95]])  # I need to accomodate the last item of the list to get the complete items\n      \npprint(dict_kv)\ntype(dict_kv)",
            "execution_count": 9,
            "outputs": [
                {
                    "output_type": "stream",
                    "text": "[['Azuay', '10,658', '195', '12'],\n ['Bol\u00edvar', '2,111', '66', '12'],\n ['Ca\u00f1ar', '2,110', '83', '7'],\n ['Carchi', '3,053', '104', '1'],\n ['Chimborazo', '2,516', '315', '119'],\n ['Cotopaxi', '4,575', '281', '61'],\n ['Esmeraldas', '4,271', '216', '51'],\n ['Gal\u00e1pagos', '227', '1', '1'],\n ['Guayas', '22,263', '1,737', '1,651'],\n ['Imbabura', '4,773', '170', '7'],\n ['Loja', '6,227', '222', '44'],\n ['Manab\u00ed', '11,284', '1,025', '1,033'],\n ['Napo', '1,440', '74', '2'],\n ['Orellana', '1,956', '53', '17'],\n ['Pastaza', '2,258', '60', '15'],\n ['Pichincha', '59,477', '1,789', '242'],\n ['Sucumb\u00edos', '2,763', '92', '2'],\n ['Tungurahua', '5,119', '276', '223'],\n ['Zamora Chinchipe', '1,580', '53', '1']]\n",
                    "name": "stdout"
                },
                {
                    "output_type": "execute_result",
                    "execution_count": 9,
                    "data": {
                        "text/plain": "list"
                    },
                    "metadata": {}
                }
            ]
        },
        {
            "metadata": {
                "id": "AZ18fXoyLaIb",
                "outputId": "feee1601-9a4b-4d17-c750-d6b4276c475d",
                "colab": {
                    "base_uri": "https://localhost:8080/",
                    "height": 610
                }
            },
            "cell_type": "code",
            "source": "df = pd.DataFrame(data=dict_kv, columns = header)\ndf",
            "execution_count": 10,
            "outputs": [
                {
                    "output_type": "execute_result",
                    "execution_count": 10,
                    "data": {
                        "text/plain": "           Provinces Confirmed cases Confirmed deaths Probable deaths\n0              Azuay          10,658              195              12\n1            Bol\u00edvar           2,111               66              12\n2              Ca\u00f1ar           2,110               83               7\n3             Carchi           3,053              104               1\n4         Chimborazo           2,516              315             119\n5           Cotopaxi           4,575              281              61\n6         Esmeraldas           4,271              216              51\n7          Gal\u00e1pagos             227                1               1\n8             Guayas          22,263            1,737           1,651\n9           Imbabura           4,773              170               7\n10              Loja           6,227              222              44\n11            Manab\u00ed          11,284            1,025           1,033\n12              Napo           1,440               74               2\n13          Orellana           1,956               53              17\n14           Pastaza           2,258               60              15\n15         Pichincha          59,477            1,789             242\n16         Sucumb\u00edos           2,763               92               2\n17        Tungurahua           5,119              276             223\n18  Zamora Chinchipe           1,580               53               1",
                        "text/html": "<div>\n<style scoped>\n    .dataframe tbody tr th:only-of-type {\n        vertical-align: middle;\n    }\n\n    .dataframe tbody tr th {\n        vertical-align: top;\n    }\n\n    .dataframe thead th {\n        text-align: right;\n    }\n</style>\n<table border=\"1\" class=\"dataframe\">\n  <thead>\n    <tr style=\"text-align: right;\">\n      <th></th>\n      <th>Provinces</th>\n      <th>Confirmed cases</th>\n      <th>Confirmed deaths</th>\n      <th>Probable deaths</th>\n    </tr>\n  </thead>\n  <tbody>\n    <tr>\n      <th>0</th>\n      <td>Azuay</td>\n      <td>10,658</td>\n      <td>195</td>\n      <td>12</td>\n    </tr>\n    <tr>\n      <th>1</th>\n      <td>Bol\u00edvar</td>\n      <td>2,111</td>\n      <td>66</td>\n      <td>12</td>\n    </tr>\n    <tr>\n      <th>2</th>\n      <td>Ca\u00f1ar</td>\n      <td>2,110</td>\n      <td>83</td>\n      <td>7</td>\n    </tr>\n    <tr>\n      <th>3</th>\n      <td>Carchi</td>\n      <td>3,053</td>\n      <td>104</td>\n      <td>1</td>\n    </tr>\n    <tr>\n      <th>4</th>\n      <td>Chimborazo</td>\n      <td>2,516</td>\n      <td>315</td>\n      <td>119</td>\n    </tr>\n    <tr>\n      <th>5</th>\n      <td>Cotopaxi</td>\n      <td>4,575</td>\n      <td>281</td>\n      <td>61</td>\n    </tr>\n    <tr>\n      <th>6</th>\n      <td>Esmeraldas</td>\n      <td>4,271</td>\n      <td>216</td>\n      <td>51</td>\n    </tr>\n    <tr>\n      <th>7</th>\n      <td>Gal\u00e1pagos</td>\n      <td>227</td>\n      <td>1</td>\n      <td>1</td>\n    </tr>\n    <tr>\n      <th>8</th>\n      <td>Guayas</td>\n      <td>22,263</td>\n      <td>1,737</td>\n      <td>1,651</td>\n    </tr>\n    <tr>\n      <th>9</th>\n      <td>Imbabura</td>\n      <td>4,773</td>\n      <td>170</td>\n      <td>7</td>\n    </tr>\n    <tr>\n      <th>10</th>\n      <td>Loja</td>\n      <td>6,227</td>\n      <td>222</td>\n      <td>44</td>\n    </tr>\n    <tr>\n      <th>11</th>\n      <td>Manab\u00ed</td>\n      <td>11,284</td>\n      <td>1,025</td>\n      <td>1,033</td>\n    </tr>\n    <tr>\n      <th>12</th>\n      <td>Napo</td>\n      <td>1,440</td>\n      <td>74</td>\n      <td>2</td>\n    </tr>\n    <tr>\n      <th>13</th>\n      <td>Orellana</td>\n      <td>1,956</td>\n      <td>53</td>\n      <td>17</td>\n    </tr>\n    <tr>\n      <th>14</th>\n      <td>Pastaza</td>\n      <td>2,258</td>\n      <td>60</td>\n      <td>15</td>\n    </tr>\n    <tr>\n      <th>15</th>\n      <td>Pichincha</td>\n      <td>59,477</td>\n      <td>1,789</td>\n      <td>242</td>\n    </tr>\n    <tr>\n      <th>16</th>\n      <td>Sucumb\u00edos</td>\n      <td>2,763</td>\n      <td>92</td>\n      <td>2</td>\n    </tr>\n    <tr>\n      <th>17</th>\n      <td>Tungurahua</td>\n      <td>5,119</td>\n      <td>276</td>\n      <td>223</td>\n    </tr>\n    <tr>\n      <th>18</th>\n      <td>Zamora Chinchipe</td>\n      <td>1,580</td>\n      <td>53</td>\n      <td>1</td>\n    </tr>\n  </tbody>\n</table>\n</div>"
                    },
                    "metadata": {}
                }
            ]
        },
        {
            "metadata": {
                "id": "Qj_4d0rJLaIi"
            },
            "cell_type": "markdown",
            "source": "#### Then, I want to get the coordinates of Ecuador and its provices."
        },
        {
            "metadata": {
                "id": "ydqK8U7TGABG",
                "outputId": "0f3b6b63-4b52-49d6-d424-3eefa8e6333a",
                "colab": {
                    "base_uri": "https://localhost:8080/"
                }
            },
            "cell_type": "code",
            "source": "address = 'Ecuador'\n\ngeolocator = Nominatim(user_agent=\"ecuador_explorer\")\nlocation = geolocator.geocode(address)\nlatitude = location.latitude\nlongitude = location.longitude\nprint('The geograpical coordinate of the country are {}, {}. This country is {}.'.format(latitude, longitude, location))",
            "execution_count": 11,
            "outputs": [
                {
                    "output_type": "stream",
                    "text": "The geograpical coordinate of the country are -1.3397668, -79.3666965. This country is Ecuador.\n",
                    "name": "stdout"
                }
            ]
        },
        {
            "metadata": {
                "id": "vH6EJgpVYYx_"
            },
            "cell_type": "markdown",
            "source": "Create a map of Ecuador"
        },
        {
            "metadata": {
                "id": "08AMQAwCYXbv",
                "outputId": "320ca598-ebb6-4dfd-f325-fea8747c0c4c",
                "colab": {
                    "base_uri": "https://localhost:8080/",
                    "height": 866
                }
            },
            "cell_type": "code",
            "source": "# create map of Toronto using latitude and longitude values\nmap_ecuador = folium.Map(location=[latitude, longitude], tiles='OpenStreetMap', zoom_start=12)\nmap_ecuador",
            "execution_count": 12,
            "outputs": [
                {
                    "output_type": "execute_result",
                    "execution_count": 12,
                    "data": {
                        "text/plain": "<folium.folium.Map at 0x7f5348609c90>",
                        "text/html": "<div style=\"width:100%;\"><div style=\"position:relative;width:100%;height:0;padding-bottom:60%;\"><span style=\"color:#565656\">Make this Notebook Trusted to load map: File -> Trust Notebook</span><iframe src=\"about:blank\" style=\"position:absolute;width:100%;height:100%;left:0;top:0;border:none !important;\" data-html=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 onload=\"this.contentDocument.open();this.contentDocument.write(atob(this.getAttribute('data-html')));this.contentDocument.close();\" allowfullscreen webkitallowfullscreen mozallowfullscreen></iframe></div></div>"
                    },
                    "metadata": {}
                }
            ]
        },
        {
            "metadata": {
                "id": "JbfBLx8qLO5r"
            },
            "cell_type": "markdown",
            "source": "Then, I want to obtain the latitude and longitude for each provice in ecuador"
        },
        {
            "metadata": {
                "id": "yL0dnqjhLFkv",
                "outputId": "d697df6b-591c-4b16-9fec-ea104961aa3e",
                "colab": {
                    "base_uri": "https://localhost:8080/",
                    "height": 195
                }
            },
            "cell_type": "code",
            "source": "address_list=[]\nlatitude=[]\nlongitude=[]\n\nfor x in df['Provinces']:\n  address=str(x)+\",Ecuador\"\n  geolocator = Nominatim(user_agent=\"ecuador_explorer\")\n  location = geolocator.geocode(address)\n  latitude.append(location.latitude)\n  longitude.append(location.longitude)\n  \ndf2= pd.DataFrame({'Latitude':latitude,'Longitude':longitude})\ndf2.head()\n",
            "execution_count": 13,
            "outputs": [
                {
                    "output_type": "execute_result",
                    "execution_count": 13,
                    "data": {
                        "text/plain": "   Latitude  Longitude\n0 -3.052445 -79.239514\n1 -1.539273 -79.081650\n2 -2.574484 -78.980468\n3  0.837516 -78.207515\n4 -1.926263 -78.729780",
                        "text/html": "<div>\n<style scoped>\n    .dataframe tbody tr th:only-of-type {\n        vertical-align: middle;\n    }\n\n    .dataframe tbody tr th {\n        vertical-align: top;\n    }\n\n    .dataframe thead th {\n        text-align: right;\n    }\n</style>\n<table border=\"1\" class=\"dataframe\">\n  <thead>\n    <tr style=\"text-align: right;\">\n      <th></th>\n      <th>Latitude</th>\n      <th>Longitude</th>\n    </tr>\n  </thead>\n  <tbody>\n    <tr>\n      <th>0</th>\n      <td>-3.052445</td>\n      <td>-79.239514</td>\n    </tr>\n    <tr>\n      <th>1</th>\n      <td>-1.539273</td>\n      <td>-79.081650</td>\n    </tr>\n    <tr>\n      <th>2</th>\n      <td>-2.574484</td>\n      <td>-78.980468</td>\n    </tr>\n    <tr>\n      <th>3</th>\n      <td>0.837516</td>\n      <td>-78.207515</td>\n    </tr>\n    <tr>\n      <th>4</th>\n      <td>-1.926263</td>\n      <td>-78.729780</td>\n    </tr>\n  </tbody>\n</table>\n</div>"
                    },
                    "metadata": {}
                }
            ]
        },
        {
            "metadata": {
                "id": "2qs-wtLiK6Do"
            },
            "cell_type": "markdown",
            "source": "Then, I joined the two dataframes and show the results.\n"
        },
        {
            "metadata": {
                "id": "wyoyAPvqSYWu",
                "outputId": "892b6cf6-0b6e-40fa-c0e7-13e20b512375",
                "colab": {
                    "base_uri": "https://localhost:8080/",
                    "height": 610
                }
            },
            "cell_type": "code",
            "source": "ecuador = df.combine_first(df2)\necuador.sort_values(['Provinces'], inplace=True)\necuador",
            "execution_count": 14,
            "outputs": [
                {
                    "output_type": "execute_result",
                    "execution_count": 14,
                    "data": {
                        "text/plain": "   Confirmed cases Confirmed deaths  Latitude  Longitude Probable deaths  \\\n0           10,658              195 -3.052445 -79.239514              12   \n1            2,111               66 -1.539273 -79.081650              12   \n3            3,053              104  0.837516 -78.207515               1   \n2            2,110               83 -2.574484 -78.980468               7   \n4            2,516              315 -1.926263 -78.729780             119   \n5            4,575              281 -0.680595 -78.437764              61   \n6            4,271              216  0.734362 -79.385887              51   \n7              227                1 -0.628815 -90.363875               1   \n8           22,263            1,737 -2.000000 -80.000000           1,651   \n9            4,773              170  0.375362 -78.355681               7   \n10           6,227              222 -4.052851 -79.805342              44   \n11          11,284            1,025 -0.758803 -80.061213           1,033   \n12           1,440               74 -0.762647 -77.970188               2   \n13           1,956               53 -0.786180 -76.480318              17   \n14           2,258               60 -1.916667 -77.000000              15   \n15          59,477            1,789 -0.058489 -78.328437             242   \n16           2,763               92 -0.039138 -76.511968               2   \n17           5,119              276 -1.276590 -78.475467             223   \n18           1,580               53 -4.062018 -78.775159               1   \n\n           Provinces  \n0              Azuay  \n1            Bol\u00edvar  \n3             Carchi  \n2              Ca\u00f1ar  \n4         Chimborazo  \n5           Cotopaxi  \n6         Esmeraldas  \n7          Gal\u00e1pagos  \n8             Guayas  \n9           Imbabura  \n10              Loja  \n11            Manab\u00ed  \n12              Napo  \n13          Orellana  \n14           Pastaza  \n15         Pichincha  \n16         Sucumb\u00edos  \n17        Tungurahua  \n18  Zamora Chinchipe  ",
                        "text/html": "<div>\n<style scoped>\n    .dataframe tbody tr th:only-of-type {\n        vertical-align: middle;\n    }\n\n    .dataframe tbody tr th {\n        vertical-align: top;\n    }\n\n    .dataframe thead th {\n        text-align: right;\n    }\n</style>\n<table border=\"1\" class=\"dataframe\">\n  <thead>\n    <tr style=\"text-align: right;\">\n      <th></th>\n      <th>Confirmed cases</th>\n      <th>Confirmed deaths</th>\n      <th>Latitude</th>\n      <th>Longitude</th>\n      <th>Probable deaths</th>\n      <th>Provinces</th>\n    </tr>\n  </thead>\n  <tbody>\n    <tr>\n      <th>0</th>\n      <td>10,658</td>\n      <td>195</td>\n      <td>-3.052445</td>\n      <td>-79.239514</td>\n      <td>12</td>\n      <td>Azuay</td>\n    </tr>\n    <tr>\n      <th>1</th>\n      <td>2,111</td>\n      <td>66</td>\n      <td>-1.539273</td>\n      <td>-79.081650</td>\n      <td>12</td>\n      <td>Bol\u00edvar</td>\n    </tr>\n    <tr>\n      <th>3</th>\n      <td>3,053</td>\n      <td>104</td>\n      <td>0.837516</td>\n      <td>-78.207515</td>\n      <td>1</td>\n      <td>Carchi</td>\n    </tr>\n    <tr>\n      <th>2</th>\n      <td>2,110</td>\n      <td>83</td>\n      <td>-2.574484</td>\n      <td>-78.980468</td>\n      <td>7</td>\n      <td>Ca\u00f1ar</td>\n    </tr>\n    <tr>\n      <th>4</th>\n      <td>2,516</td>\n      <td>315</td>\n      <td>-1.926263</td>\n      <td>-78.729780</td>\n      <td>119</td>\n      <td>Chimborazo</td>\n    </tr>\n    <tr>\n      <th>5</th>\n      <td>4,575</td>\n      <td>281</td>\n      <td>-0.680595</td>\n      <td>-78.437764</td>\n      <td>61</td>\n      <td>Cotopaxi</td>\n    </tr>\n    <tr>\n      <th>6</th>\n      <td>4,271</td>\n      <td>216</td>\n      <td>0.734362</td>\n      <td>-79.385887</td>\n      <td>51</td>\n      <td>Esmeraldas</td>\n    </tr>\n    <tr>\n      <th>7</th>\n      <td>227</td>\n      <td>1</td>\n      <td>-0.628815</td>\n      <td>-90.363875</td>\n      <td>1</td>\n      <td>Gal\u00e1pagos</td>\n    </tr>\n    <tr>\n      <th>8</th>\n      <td>22,263</td>\n      <td>1,737</td>\n      <td>-2.000000</td>\n      <td>-80.000000</td>\n      <td>1,651</td>\n      <td>Guayas</td>\n    </tr>\n    <tr>\n      <th>9</th>\n      <td>4,773</td>\n      <td>170</td>\n      <td>0.375362</td>\n      <td>-78.355681</td>\n      <td>7</td>\n      <td>Imbabura</td>\n    </tr>\n    <tr>\n      <th>10</th>\n      <td>6,227</td>\n      <td>222</td>\n      <td>-4.052851</td>\n      <td>-79.805342</td>\n      <td>44</td>\n      <td>Loja</td>\n    </tr>\n    <tr>\n      <th>11</th>\n      <td>11,284</td>\n      <td>1,025</td>\n      <td>-0.758803</td>\n      <td>-80.061213</td>\n      <td>1,033</td>\n      <td>Manab\u00ed</td>\n    </tr>\n    <tr>\n      <th>12</th>\n      <td>1,440</td>\n      <td>74</td>\n      <td>-0.762647</td>\n      <td>-77.970188</td>\n      <td>2</td>\n      <td>Napo</td>\n    </tr>\n    <tr>\n      <th>13</th>\n      <td>1,956</td>\n      <td>53</td>\n      <td>-0.786180</td>\n      <td>-76.480318</td>\n      <td>17</td>\n      <td>Orellana</td>\n    </tr>\n    <tr>\n      <th>14</th>\n      <td>2,258</td>\n      <td>60</td>\n      <td>-1.916667</td>\n      <td>-77.000000</td>\n      <td>15</td>\n      <td>Pastaza</td>\n    </tr>\n    <tr>\n      <th>15</th>\n      <td>59,477</td>\n      <td>1,789</td>\n      <td>-0.058489</td>\n      <td>-78.328437</td>\n      <td>242</td>\n      <td>Pichincha</td>\n    </tr>\n    <tr>\n      <th>16</th>\n      <td>2,763</td>\n      <td>92</td>\n      <td>-0.039138</td>\n      <td>-76.511968</td>\n      <td>2</td>\n      <td>Sucumb\u00edos</td>\n    </tr>\n    <tr>\n      <th>17</th>\n      <td>5,119</td>\n      <td>276</td>\n      <td>-1.276590</td>\n      <td>-78.475467</td>\n      <td>223</td>\n      <td>Tungurahua</td>\n    </tr>\n    <tr>\n      <th>18</th>\n      <td>1,580</td>\n      <td>53</td>\n      <td>-4.062018</td>\n      <td>-78.775159</td>\n      <td>1</td>\n      <td>Zamora Chinchipe</td>\n    </tr>\n  </tbody>\n</table>\n</div>"
                    },
                    "metadata": {}
                }
            ]
        },
        {
            "metadata": {
                "id": "bRPjWV0Ma3dc"
            },
            "cell_type": "markdown",
            "source": "The Foursquare API is going to be used to explore the neighborhoods."
        },
        {
            "metadata": {
                "id": "BGeMby27a3DY"
            },
            "cell_type": "code",
            "source": "CLIENT_ID = 'CB245Q52IIDUCQ1VXR2HBN5HANNGGSNTWW2CZ0K2Z4PQWAZT' # your Foursquare ID\nCLIENT_SECRET = 'M4O5SZNTHG2JBVJSERHF10H2NC5IX3OMC20IIKHDLA2KHFWB' # your Foursquare Secret\nVERSION = '20180605' # Foursquare API version\nLIMIT = 100 # A default Foursquare API limit value",
            "execution_count": 15,
            "outputs": []
        },
        {
            "metadata": {
                "id": "F8UwW1iXbJnw"
            },
            "cell_type": "markdown",
            "source": "I decided to explore Guayaquil, which is the provinces where I live."
        },
        {
            "metadata": {
                "id": "4oKtT5OebRfi",
                "outputId": "98ec04e6-989b-4e3a-e936-7b5006bf8d79",
                "colab": {
                    "base_uri": "https://localhost:8080/"
                }
            },
            "cell_type": "code",
            "source": "print(ecuador[ecuador['Provinces']=='Guayas'].index.values) # First, I get the index of my province.\nprint(ecuador.loc[8, 'Provinces'])\nguayas_latitude=ecuador.loc[8,'Latitude'] #  guayas latitude value\nguayas_longitude=ecuador.loc[8,'Longitude']\nprint(\"guayas latitude: {}\".format(guayas_latitude)) # guayas longitude value\nprint(\"guayas longitude: {}\".format(guayas_longitude)) # guayas longitude value",
            "execution_count": 16,
            "outputs": [
                {
                    "output_type": "stream",
                    "text": "[8]\nGuayas\nguayas latitude: -2.0\nguayas longitude: -80.0\n",
                    "name": "stdout"
                }
            ]
        },
        {
            "metadata": {
                "id": "E3Pwl_qBffYQ"
            },
            "cell_type": "markdown",
            "source": "Now, let's get the top 100 venues that are Guayas within a radius of 1000 meters"
        },
        {
            "metadata": {
                "id": "R9xiHYpJfd--",
                "outputId": "ec895538-3959-44a4-b933-ff9a6bb9c2fa",
                "colab": {
                    "base_uri": "https://localhost:8080/",
                    "height": 52
                }
            },
            "cell_type": "code",
            "source": "LIMIT = 100 # limit of number of venues returned by Foursquare API\n\nradius = 100000 # define radius\n\nurl = 'https://api.foursquare.com/v2/venues/explore?&client_id={}&client_secret={}&v={}&ll={},{}&radius={}&limit={}'.format(\n    CLIENT_ID, \n    CLIENT_SECRET, \n    VERSION, \n    guayas_latitude, \n    guayas_longitude, \n    radius, \n    LIMIT)\nurl # display URL",
            "execution_count": 17,
            "outputs": [
                {
                    "output_type": "execute_result",
                    "execution_count": 17,
                    "data": {
                        "text/plain": "'https://api.foursquare.com/v2/venues/explore?&client_id=CB245Q52IIDUCQ1VXR2HBN5HANNGGSNTWW2CZ0K2Z4PQWAZT&client_secret=M4O5SZNTHG2JBVJSERHF10H2NC5IX3OMC20IIKHDLA2KHFWB&v=20180605&ll=-2.0,-80.0&radius=100000&limit=100'"
                    },
                    "metadata": {}
                }
            ]
        },
        {
            "metadata": {
                "id": "KC1H0_snfu68"
            },
            "cell_type": "markdown",
            "source": "Send the GET request and examine the results"
        },
        {
            "metadata": {
                "id": "0CGVKRKSfw_6"
            },
            "cell_type": "code",
            "source": "ec_results = requests.get(url).json()",
            "execution_count": 18,
            "outputs": []
        },
        {
            "metadata": {
                "id": "LHKM3pQUgLDi"
            },
            "cell_type": "markdown",
            "source": "From the Foursquare lab in the previous module, we know that all the information is in the items key. Before we proceed, let's borrow the get_category_type function from the Foursquare lab."
        },
        {
            "metadata": {
                "id": "d-Vz5xS7gKOr"
            },
            "cell_type": "code",
            "source": "# function that extracts the category of the venue\ndef get_category_type(row):\n    try:\n        categories_list = row['categories']\n    except:\n        categories_list = row['venue.categories']\n        \n    if len(categories_list) == 0:\n        return None\n    else:\n        return categories_list[0]['name']",
            "execution_count": 19,
            "outputs": []
        },
        {
            "metadata": {
                "id": "i5HH5yV0gdWx"
            },
            "cell_type": "markdown",
            "source": "Then, we get the venues."
        },
        {
            "metadata": {
                "id": "for7QgLeggYS",
                "outputId": "82ed761f-a141-4f39-a0dd-63f8fbee73f2",
                "colab": {
                    "base_uri": "https://localhost:8080/",
                    "height": 229
                }
            },
            "cell_type": "code",
            "source": "ec_venues = ec_results['response']['groups'][0]['items']\n    \nec_nearby_venues = json_normalize(ec_venues) # flatten JSON\n\n# filter columns\nfiltered_columns = ['venue.name', 'venue.categories', 'venue.location.lat', 'venue.location.lng']\nec_nearby_venues =ec_nearby_venues.loc[:, filtered_columns]\n\n# filter the category for each row\nec_nearby_venues['venue.categories'] = ec_nearby_venues.apply(get_category_type, axis=1)\n\n# clean columns\nec_nearby_venues.columns = [col.split(\".\")[-1] for col in ec_nearby_venues.columns]\nec_nearby_venues.head()\n",
            "execution_count": 20,
            "outputs": [
                {
                    "output_type": "stream",
                    "text": "/opt/conda/envs/Python-3.7-main/lib/python3.7/site-packages/ipykernel/__main__.py:3: FutureWarning: pandas.io.json.json_normalize is deprecated, use pandas.json_normalize instead\n  app.launch_new_instance()\n",
                    "name": "stderr"
                },
                {
                    "output_type": "execute_result",
                    "execution_count": 20,
                    "data": {
                        "text/plain": "                      name           categories       lat        lng\n0               Supercines        Movie Theater -2.054415 -79.874699\n1                 Wine Bar             Wine Bar -2.099587 -79.874460\n2    Embarcadero 41 Fusi\u00f3n  Peruvian Restaurant -2.098402 -79.875182\n3  Plaza Lagos Town Center        Shopping Mall -2.098301 -79.875011\n4           Parque Samanes                 Park -2.103924 -79.903865",
                        "text/html": "<div>\n<style scoped>\n    .dataframe tbody tr th:only-of-type {\n        vertical-align: middle;\n    }\n\n    .dataframe tbody tr th {\n        vertical-align: top;\n    }\n\n    .dataframe thead th {\n        text-align: right;\n    }\n</style>\n<table border=\"1\" class=\"dataframe\">\n  <thead>\n    <tr style=\"text-align: right;\">\n      <th></th>\n      <th>name</th>\n      <th>categories</th>\n      <th>lat</th>\n      <th>lng</th>\n    </tr>\n  </thead>\n  <tbody>\n    <tr>\n      <th>0</th>\n      <td>Supercines</td>\n      <td>Movie Theater</td>\n      <td>-2.054415</td>\n      <td>-79.874699</td>\n    </tr>\n    <tr>\n      <th>1</th>\n      <td>Wine Bar</td>\n      <td>Wine Bar</td>\n      <td>-2.099587</td>\n      <td>-79.874460</td>\n    </tr>\n    <tr>\n      <th>2</th>\n      <td>Embarcadero 41 Fusi\u00f3n</td>\n      <td>Peruvian Restaurant</td>\n      <td>-2.098402</td>\n      <td>-79.875182</td>\n    </tr>\n    <tr>\n      <th>3</th>\n      <td>Plaza Lagos Town Center</td>\n      <td>Shopping Mall</td>\n      <td>-2.098301</td>\n      <td>-79.875011</td>\n    </tr>\n    <tr>\n      <th>4</th>\n      <td>Parque Samanes</td>\n      <td>Park</td>\n      <td>-2.103924</td>\n      <td>-79.903865</td>\n    </tr>\n  </tbody>\n</table>\n</div>"
                    },
                    "metadata": {}
                }
            ]
        },
        {
            "metadata": {
                "id": "Ny2oETphgsLA"
            },
            "cell_type": "markdown",
            "source": "100 venues were returned."
        },
        {
            "metadata": {
                "id": "JxRAyD1JgwbY",
                "outputId": "b2eacdcd-db95-4300-f2a8-629b97b33b0b",
                "colab": {
                    "base_uri": "https://localhost:8080/"
                }
            },
            "cell_type": "code",
            "source": "print('{} venues were returned by Foursquare.'.format(ec_nearby_venues.shape[0]))",
            "execution_count": 21,
            "outputs": [
                {
                    "output_type": "stream",
                    "text": "100 venues were returned by Foursquare.\n",
                    "name": "stdout"
                }
            ]
        },
        {
            "metadata": {
                "id": "Yg6Mw4ClhIXN"
            },
            "cell_type": "markdown",
            "source": "Explore provinces in Ecuador"
        },
        {
            "metadata": {
                "id": "5vhKZOuihBzh"
            },
            "cell_type": "code",
            "source": "def getNearbyVenues(names, latitudes, longitudes, radius=100000):\n    \n    venues_list=[]\n    for name, lat, lng in zip(names, latitudes, longitudes):\n        print(name)\n            \n        # create the API request URL\n        url = 'https://api.foursquare.com/v2/venues/explore?&client_id={}&client_secret={}&v={}&ll={},{}&radius={}&limit={}'.format(\n            CLIENT_ID, \n            CLIENT_SECRET, \n            VERSION, \n            lat, \n            lng, \n            radius, \n            LIMIT)\n            \n        # make the GET request\n        results = requests.get(url).json()[\"response\"]['groups'][0]['items']\n        \n        # return only relevant information for each nearby venue\n        venues_list.append([(\n            name, \n            lat, \n            lng, \n            v['venue']['name'], \n            v['venue']['location']['lat'], \n            v['venue']['location']['lng'],  \n            v['venue']['categories'][0]['name']) for v in results])\n\n    nearby_venues = pd.DataFrame([item for venue_list in venues_list for item in venue_list])\n    nearby_venues.columns = ['Neighborhood', \n                  'Neighborhood Latitude', \n                  'Neighborhood Longitude', \n                  'Venue', \n                  'Venue Latitude', \n                  'Venue Longitude', \n                  'Venue Category']\n    \n    return(nearby_venues)",
            "execution_count": 22,
            "outputs": []
        },
        {
            "metadata": {
                "id": "Orx45zY_hUI7",
                "outputId": "6860b13e-d437-4f6d-f98b-37bf2455ee76",
                "colab": {
                    "base_uri": "https://localhost:8080/"
                }
            },
            "cell_type": "code",
            "source": "ecuador_venues = getNearbyVenues(names=ecuador['Provinces'],\n                                   latitudes=ecuador['Latitude'],\n                                   longitudes=ecuador['Longitude']\n                                  )",
            "execution_count": 23,
            "outputs": [
                {
                    "output_type": "stream",
                    "text": "Azuay\nBol\u00edvar\nCarchi\nCa\u00f1ar\nChimborazo\nCotopaxi\nEsmeraldas\nGal\u00e1pagos\nGuayas\nImbabura\nLoja\nManab\u00ed\nNapo\nOrellana\nPastaza\nPichincha\nSucumb\u00edos\nTungurahua\nZamora Chinchipe\n",
                    "name": "stdout"
                }
            ]
        },
        {
            "metadata": {
                "id": "Dn8UTemMiH7k"
            },
            "cell_type": "markdown",
            "source": "Let's check the size of the resulting dataframe"
        },
        {
            "metadata": {
                "id": "DODQhx0liKCl",
                "outputId": "9d695f4e-f534-4a74-8620-99bb40da3787",
                "colab": {
                    "base_uri": "https://localhost:8080/"
                }
            },
            "cell_type": "code",
            "source": "print(ecuador_venues.shape)",
            "execution_count": 24,
            "outputs": [
                {
                    "output_type": "stream",
                    "text": "(1236, 7)\n",
                    "name": "stdout"
                }
            ]
        },
        {
            "metadata": {
                "id": "cZpJS92BkYCQ"
            },
            "cell_type": "code",
            "source": "# add markers to map\nfor lat, lng, provinces, confirmedCases, ConfirmedDeaths in zip(ecuador['Latitude'], ecuador['Longitude'], ecuador['Provinces'], ecuador['Confirmed cases'], ecuador['Confirmed deaths']):\n    label = 'Provinces: {}, Confirmed Cases: {}, Deaths: {}'.format(provinces, confirmedCases ,ConfirmedDeaths)\n    label = folium.Popup(label, parse_html=True)\n    folium.CircleMarker(\n        [lat, lng],\n        radius=(5*float(confirmedCases.replace(',',''))/59477),\n        popup=label,\n        color='red',\n        fill='red',\n        fill_color='#FF0000',\n        fill_opacity=(float(confirmedCases.replace(',',''))/59477),\n        parse_html=False).add_to(map_ecuador)\n  \n\n    \n",
            "execution_count": 25,
            "outputs": []
        },
        {
            "metadata": {
                "id": "T2cqpoN7oE3t",
                "outputId": "7f0671ae-3a93-437b-f150-5173db651045",
                "colab": {
                    "base_uri": "https://localhost:8080/",
                    "height": 866
                }
            },
            "cell_type": "code",
            "source": "map_ecuador",
            "execution_count": 26,
            "outputs": [
                {
                    "output_type": "execute_result",
                    "execution_count": 26,
                    "data": {
                        "text/plain": "<folium.folium.Map at 0x7f5348609c90>",
                        "text/html": "<div style=\"width:100%;\"><div style=\"position:relative;width:100%;height:0;padding-bottom:60%;\"><span style=\"color:#565656\">Make this Notebook Trusted to load map: File -> Trust Notebook</span><iframe src=\"about:blank\" style=\"position:absolute;width:100%;height:100%;left:0;top:0;border:none !important;\" data-html=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 onload=\"this.contentDocument.open();this.contentDocument.write(atob(this.getAttribute('data-html')));this.contentDocument.close();\" allowfullscreen webkitallowfullscreen mozallowfullscreen></iframe></div></div>"
                    },
                    "metadata": {}
                }
            ]
        },
        {
            "metadata": {
                "id": "_EN1zyuEZ2Oy"
            },
            "cell_type": "markdown",
            "source": "# ***5. Discussion section***"
        },
        {
            "metadata": {
                "id": "W3Cgp9MWZ-I_"
            },
            "cell_type": "markdown",
            "source": "In this section any observations and any recommendations will be discussed."
        },
        {
            "metadata": {
                "id": "Mfd5MQKyxzrr"
            },
            "cell_type": "markdown",
            "source": "# **6. Conclusion:** \nWith this information, I conclude that Pichincha is most dangerous provinces to visit. I can make more further analysis about this data. This analysis will continue on week 5."
        },
        {
            "metadata": {},
            "cell_type": "code",
            "source": "",
            "execution_count": null,
            "outputs": []
        }
    ],
    "metadata": {
        "kernelspec": {
            "name": "python3",
            "display_name": "Python 3.7",
            "language": "python"
        },
        "language_info": {
            "name": "python",
            "version": "3.7.9",
            "mimetype": "text/x-python",
            "codemirror_mode": {
                "name": "ipython",
                "version": 3
            },
            "pygments_lexer": "ipython3",
            "nbconvert_exporter": "python",
            "file_extension": ".py"
        },
        "colab": {
            "name": "Copy of Capstone Project -Week 4.ipynb",
            "provenance": [],
            "collapsed_sections": []
        }
    },
    "nbformat": 4,
    "nbformat_minor": 1
}