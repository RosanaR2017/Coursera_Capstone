{
    "cells": [
        {
            "metadata": {
                "id": "-_0DzvBiLaHI",
                "outputId": "fc6c654e-5d17-4860-d215-8eedbb4428b0",
                "colab": {
                    "base_uri": "https://localhost:8080/"
                }
            },
            "cell_type": "code",
            "source": "!pip install folium\n!pip install PyPDF2\n!pip install urllib3\n!pip install pdfminer\n!pip3 install table_ocr",
            "execution_count": null,
            "outputs": [
                {
                    "output_type": "stream",
                    "text": "Collecting folium\n  Downloading folium-0.11.0-py2.py3-none-any.whl (93 kB)\n\u001b[K     |\u2588\u2588\u2588\u2588\u2588\u2588\u2588\u2588\u2588\u2588\u2588\u2588\u2588\u2588\u2588\u2588\u2588\u2588\u2588\u2588\u2588\u2588\u2588\u2588\u2588\u2588\u2588\u2588\u2588\u2588\u2588\u2588| 93 kB 2.8 MB/s eta 0:00:011\n\u001b[?25hRequirement already satisfied: requests in /opt/conda/envs/Python-3.7-main/lib/python3.7/site-packages (from folium) (2.24.0)\nCollecting branca>=0.3.0\n  Downloading branca-0.4.1-py3-none-any.whl (24 kB)\nRequirement already satisfied: numpy in /opt/conda/envs/Python-3.7-main/lib/python3.7/site-packages (from folium) (1.18.5)\nRequirement already satisfied: jinja2>=2.9 in /opt/conda/envs/Python-3.7-main/lib/python3.7/site-packages (from folium) (2.11.2)\nRequirement already satisfied: urllib3!=1.25.0,!=1.25.1,<1.26,>=1.21.1 in /opt/conda/envs/Python-3.7-main/lib/python3.7/site-packages (from requests->folium) (1.25.9)\nRequirement already satisfied: idna<3,>=2.5 in /opt/conda/envs/Python-3.7-main/lib/python3.7/site-packages (from requests->folium) (2.9)\nRequirement already satisfied: certifi>=2017.4.17 in /opt/conda/envs/Python-3.7-main/lib/python3.7/site-packages (from requests->folium) (2020.6.20)\nRequirement already satisfied: chardet<4,>=3.0.2 in /opt/conda/envs/Python-3.7-main/lib/python3.7/site-packages (from requests->folium) (3.0.4)\nRequirement already satisfied: MarkupSafe>=0.23 in /opt/conda/envs/Python-3.7-main/lib/python3.7/site-packages (from jinja2>=2.9->folium) (1.1.1)\nInstalling collected packages: branca, folium\nSuccessfully installed branca-0.4.1 folium-0.11.0\nCollecting PyPDF2\n  Downloading PyPDF2-1.26.0.tar.gz (77 kB)\n\u001b[K     |\u2588\u2588\u2588\u2588\u2588\u2588\u2588\u2588\u2588\u2588\u2588\u2588\u2588\u2588\u2588\u2588\u2588\u2588\u2588\u2588\u2588\u2588\u2588\u2588\u2588\u2588\u2588\u2588\u2588\u2588\u2588\u2588| 77 kB 6.1 MB/s eta 0:00:011\n\u001b[?25hBuilding wheels for collected packages: PyPDF2\n  Building wheel for PyPDF2 (setup.py) ... \u001b[?25ldone\n\u001b[?25h  Created wheel for PyPDF2: filename=PyPDF2-1.26.0-py3-none-any.whl size=61084 sha256=bcf11225beeb8f036d234b957a1d10e6534700815311b53388636ece089c4cea\n  Stored in directory: /tmp/wsuser/.cache/pip/wheels/80/1a/24/648467ade3a77ed20f35cfd2badd32134e96dd25ca811e64b3\nSuccessfully built PyPDF2\nInstalling collected packages: PyPDF2\nSuccessfully installed PyPDF2-1.26.0\nRequirement already satisfied: urllib3 in /opt/conda/envs/Python-3.7-main/lib/python3.7/site-packages (1.25.9)\nCollecting pdfminer\n  Downloading pdfminer-20191125.tar.gz (4.2 MB)\n\u001b[K     |\u2588\u2588\u2588\u2588\u2588\u2588\u2588\u2588\u2588\u2588\u2588\u2588\u2588\u2588\u2588\u2588\u2588\u2588\u2588\u2588\u2588\u2588\u2588\u2588\u2588\u2588\u2588\u2588\u2588\u2588\u2588\u2588| 4.2 MB 11.1 MB/s eta 0:00:01\n\u001b[?25hCollecting pycryptodome\n  Downloading pycryptodome-3.9.9-cp37-cp37m-manylinux1_x86_64.whl (13.7 MB)\n\u001b[K     |\u2588\u2588\u2588\u2588\u2588\u2588\u2588\u2588\u2588\u2588\u2588\u2588\u2588\u2588\u2588\u2588\u2588\u2588\u2588\u2588\u2588\u2588\u2588\u2588\u2588\u2588\u2588\u2588\u2588\u2588\u2588\u2588| 13.7 MB 52.6 MB/s eta 0:00:01\n\u001b[?25hBuilding wheels for collected packages: pdfminer\n  Building wheel for pdfminer (setup.py) ... \u001b[?25l-",
                    "name": "stdout"
                }
            ]
        },
        {
            "metadata": {
                "id": "yfndDF_zLaHR"
            },
            "cell_type": "markdown",
            "source": "## 1. Importing Libraries:"
        },
        {
            "metadata": {
                "id": "7Lt1-xTBLaHS",
                "outputId": "74c44882-abd2-46dc-9a87-f6c602b68834",
                "colab": {
                    "base_uri": "https://localhost:8080/"
                }
            },
            "cell_type": "code",
            "source": "import numpy as np # library to handle data in a vectorized manner\nfrom pprint import pprint\n\nimport pandas as pd # library for data analysis\npd.set_option('display.max_columns', None)\npd.set_option('display.max_rows', None)\n\nimport json # library to handle JSON files\nfrom pandas.io.json import json_normalize # tranform JSON file into a pandas dataframe\n\nimport requests # library to handle requests\nfrom bs4 import BeautifulSoup # library to parse HTML documents\nfrom urllib.request import urlopen\n\nfrom geopy.geocoders import Nominatim # convert an address into latitude and longitude values\n\n# Matplotlib and associated plotting modules\nimport matplotlib.cm as cm\nimport matplotlib.colors as colors\n\n# import k-means from clustering stage\nfrom sklearn.cluster import KMeans\n\n#!conda install -c conda-forge folium=0.5.0 --yes # uncomment this line if you haven't completed the Foursquare API lab\nimport folium # map rendering library\n\n#Library to extract text and data from pdf format\nimport PyPDF2\nimport urllib3\nfrom io import StringIO\nimport io\n\nprint('Libraries imported.')",
            "execution_count": null,
            "outputs": []
        },
        {
            "metadata": {
                "id": "ywTgsWViSIdG"
            },
            "cell_type": "markdown",
            "source": "# **1. Introduction**\n\nThe first human cases of COVID-19 were identified in Wuhan, Hubei, China, in December 2019. As a result of COVID-19 many regions have imposed lockdowns, curfews and quarantines alongside new legislation and evacuations, or other restrictions for citizens of or recent travelers to the most affected areas.[1] Other regions have imposed global restrictions that apply to all foreign countries and territories, or prevent their own citizens from travelling overseas.[2]\nThe pandemic was confirmed to have reached South America on 26 February 2020 when Brazil confirmed a case in S\u00e3o Paulo.[3] By 3 April, all countries and territories in South America had recorded at least one case.[4]\nIn Ecuador, the virus was reported to have spread to Ecuador on 29 February 2020 when a woman in her 70s tested positive for the virus. This disease has caused a several disrupt in the economy and life for every citizen in Ecuador. As result, this project is targeted to get more knowledge about this disease. Spefically, finding hot spots and warn people about the situation of each province in Ecuador. \n\nReferency entry:\n1. \"Coronavirus Travel Restrictions, Across the Globe\". The New York Times. 26 March 2020.\n2. \"Coronavirus (COVID-19) \u2013 information for Australian travelers\". Australian Government. Retrieved 4 September 2020.\n3. Horwitz L, Nagovitch P, Sonnel HK, Zissis C. \"Where Is the Coronavirus in Latin America?\". AS/COA. Archived from the original on 22 March 2020. Retrieved 22 March 2020.\n4. \"Uncollected bodies lie for days in the streets of Ecuador the emerging epicentre of the coronavirus in Latin America\". Stuff/Fairfax. 4 April 2020."
        },
        {
            "metadata": {
                "id": "tI_hWHPvLaHW"
            },
            "cell_type": "markdown",
            "source": "## **2. Description of the problem**\n"
        },
        {
            "metadata": {
                "id": "qC5xQ86mH5A3"
            },
            "cell_type": "markdown",
            "source": "\"*Ecuador has one of the highest per capita Covid-19 deaths rates in the world, according to research from Johns Hopkins University. A New York Times analysis of over two dozen countries found that Ecuador had one of the highest excess death rate* \"[1] . Therefore, as a current resident of Ecuador, I am concerned about my family safety in this country ,and I want to know where are located the highest spot of Covid in this country. This information will help helpful to travel within this country and acknowledge Ecuadorians where they Ecuador can stay safely from this brutal disease. \n\n**Reference entry:**\n1. url: Noah Smith, [Covid-19 in Ecuador: An Exclusive Q&A with Ecuador\u2019s Ambassador to the U.S.](https://reliefweb.int/report/ecuador/covid-19-ecuador-exclusive-qa-ecuador-s-ambassador-us)\n"
        },
        {
            "metadata": {
                "id": "s6PecEpJP7Db"
            },
            "cell_type": "markdown",
            "source": "## **2.1. Background**"
        },
        {
            "metadata": {
                "id": "uZQeuyF9QBh2"
            },
            "cell_type": "markdown",
            "source": "**Country-Specific Information:**\n\n1.   Ecuador has confirmed positive cases of COVID-19 in all 24 provinces.\n2.   On August 6, the U.S. Department of State removed the Global Health Advisory Level 4. Ecuador is now listed as Level 3: Reconsider Travel[1].\n3.   The COVID-19 pandemic in Ecuador is part of the worldwide pandemic of coronavirus disease 2019 (COVID-19) caused by severe acute respiratory syndrome coronavirus 2 (SARS-CoV-2). The virus was reported to have spread to Ecuador on 29 February 2020 when a woman in her 70s tested positive for the virus. Ecuador was described in April as emerging as a possible \"epicentre\" of the pandemic in Latin America,[2] with the city of Guayaquil overwhelmed to the point where bodies were being left in the street[3].\n\n\n**Reference entry:**\n1. url: CS Unit, 19 October, 2020 url: https://ec.usembassy.gov/covid-19-information-ecu-2/\n2.\"Uncollected bodies lie for days in the streets of Ecuador the emerging epicentre of the coronavirus in Latin America\". Stuff/Fairfax. 4 April 2020.\n3. \"Ecuador coronavirus: Bodies are being left in the streets in an overwhelmed city\". msn.com. Retrieved 5 April 2020.\n\n\n"
        },
        {
            "metadata": {
                "id": "M_1Mp8ZZLaHY"
            },
            "cell_type": "markdown",
            "source": "### **3. Description of Data:**\nI am usig several input of data:\n\n1.   The first input of data that I am using is from wikipedia. Specifically, it is a page with data about COVID-19 pandemic in Ecuador.\n\n  URL: \"https://en.wikipedia.org/wiki/COVID-19_pandemic_in_Ecuador\"\n\n    \n\n*   This URL has information about how many confirmed cases and deaths are in 19_pandemic_in_Ecuador Ecuador. This data is classified by each province in Ecuador.  \n\n2.   The second input of data are the geolocation data of each provinces in Ecuador. This information was extracted using geopy locator and can provide the latitude and longitude of each province in Ecuador.\n\n3. The final data are the nearby venues in Ecuador that were extracted using the API foursquare. This data will help to correlate a cluster Covid hotspots in Ecuador. \n\n\n"
        },
        {
            "metadata": {
                "id": "A78hvI0-Yub-"
            },
            "cell_type": "markdown",
            "source": "### **4. Methodology**\n\nThere are several methodology implemented within this project. The following include:\n\n*   Web scrapping.\n*   Organization an collection of data.\n*   Geolocation of ach province and nearby venues.\n*   Plotting with folium. \n\n"
        },
        {
            "metadata": {
                "id": "lkxUgLTlZaTA"
            },
            "cell_type": "markdown",
            "source": "### ***5. Results section***"
        },
        {
            "metadata": {
                "id": "9l4FQKrsLaID"
            },
            "cell_type": "markdown",
            "source": "### Using web scrapping and beautiful soup to extract data from a wikipedia page."
        },
        {
            "metadata": {
                "id": "OB0HYv1uLaIH"
            },
            "cell_type": "code",
            "source": "wiki_URL=\"https://en.wikipedia.org/wiki/COVID-19_pandemic_in_Ecuador\"",
            "execution_count": null,
            "outputs": []
        },
        {
            "metadata": {
                "id": "vWcX_nWvLaIK"
            },
            "cell_type": "code",
            "source": "#from inspecting element you get the class wikitable sortable jquery-tablesorter\nresponse=requests.get(wiki_URL)",
            "execution_count": null,
            "outputs": []
        },
        {
            "metadata": {
                "id": "bGX2L-tiRE0N"
            },
            "cell_type": "code",
            "source": "soup = BeautifulSoup(response.text,'lxml')\ntable=soup.find('table',{'class':'wikitable'}).tbody",
            "execution_count": null,
            "outputs": []
        },
        {
            "metadata": {
                "id": "Z38MlFHSwZFS"
            },
            "cell_type": "markdown",
            "source": ""
        },
        {
            "metadata": {
                "id": "_RAieEHAwZku"
            },
            "cell_type": "markdown",
            "source": "### First, I cleaned the HTML headers by converting it to text and using remove_html tags function.\n"
        },
        {
            "metadata": {
                "id": "KzWqJv_rOGBO"
            },
            "cell_type": "code",
            "source": "def remove_html_tags(text):\n    \"\"\"Remove html tags from a string\"\"\"\n    import re\n    clean = re.compile(r'(<[^\\>]*>)|(\\n)|(\\xa0)') \n    return re.sub(clean, '', text) ",
            "execution_count": null,
            "outputs": []
        },
        {
            "metadata": {
                "id": "-I6I5LSGT87x",
                "outputId": "5e71b72e-2362-45b6-f34d-2b7e7b60ea7e",
                "colab": {
                    "base_uri": "https://localhost:8080/"
                }
            },
            "cell_type": "code",
            "source": "header=[]\nfor th in table.find_all('th'):\n  header.append(str(th))\nheader=list(map(remove_html_tags,header[0:4]))\npprint(header)",
            "execution_count": null,
            "outputs": []
        },
        {
            "metadata": {
                "id": "RTO45XFfPWji",
                "outputId": "538d3eee-2006-4f9f-9705-0d694fa1acc4",
                "colab": {
                    "base_uri": "https://localhost:8080/"
                }
            },
            "cell_type": "code",
            "source": "rows = []\nfor td in table.find_all('td'):\n    rows.append(str(td))\nrows=list(map(remove_html_tags,rows))\nprint(rows, sep=\",\")",
            "execution_count": null,
            "outputs": []
        },
        {
            "metadata": {
                "id": "jCFVksU8xuE5"
            },
            "cell_type": "markdown",
            "source": "After cleaning our colums and rows, I am going to construct the dataframe. "
        },
        {
            "metadata": {
                "id": "rZ0CmJnD2Jr1"
            },
            "cell_type": "markdown",
            "source": "1. First, I construct a list with the provinces  with its data  where each province has it owns data contained in a list. "
        },
        {
            "metadata": {
                "id": "pBELia-rLaIY",
                "outputId": "79fc74eb-c578-4187-de3a-2d16d124aab8",
                "colab": {
                    "base_uri": "https://localhost:8080/"
                }
            },
            "cell_type": "code",
            "source": "dict_kv=[]\nfor i in range(0, len(rows)):\n  if (rows[i].strip().isalpha()):  \n    dict_kv.append([rows[i],rows[i+1],rows[i+2],rows[i+3]])\n    \n  \ndict_kv.append([rows[92],rows[93],rows[94],rows[95]])  # I need to accomodate the last item of the list to get the complete items\n      \npprint(dict_kv)\ntype(dict_kv)",
            "execution_count": null,
            "outputs": []
        },
        {
            "metadata": {
                "id": "AZ18fXoyLaIb",
                "outputId": "feee1601-9a4b-4d17-c750-d6b4276c475d",
                "colab": {
                    "base_uri": "https://localhost:8080/",
                    "height": 610
                }
            },
            "cell_type": "code",
            "source": "df = pd.DataFrame(data=dict_kv, columns = header)\ndf",
            "execution_count": null,
            "outputs": []
        },
        {
            "metadata": {
                "id": "Qj_4d0rJLaIi"
            },
            "cell_type": "markdown",
            "source": "#### Then, I want to get the coordinates of Ecuador and its provices."
        },
        {
            "metadata": {
                "id": "ydqK8U7TGABG",
                "outputId": "0f3b6b63-4b52-49d6-d424-3eefa8e6333a",
                "colab": {
                    "base_uri": "https://localhost:8080/"
                }
            },
            "cell_type": "code",
            "source": "address = 'Ecuador'\n\ngeolocator = Nominatim(user_agent=\"ecuador_explorer\")\nlocation = geolocator.geocode(address)\nlatitude = location.latitude\nlongitude = location.longitude\nprint('The geograpical coordinate of the country are {}, {}. This country is {}.'.format(latitude, longitude, location))",
            "execution_count": null,
            "outputs": []
        },
        {
            "metadata": {
                "id": "vH6EJgpVYYx_"
            },
            "cell_type": "markdown",
            "source": "Create a map of Ecuador"
        },
        {
            "metadata": {
                "id": "08AMQAwCYXbv",
                "outputId": "320ca598-ebb6-4dfd-f325-fea8747c0c4c",
                "colab": {
                    "base_uri": "https://localhost:8080/",
                    "height": 866
                }
            },
            "cell_type": "code",
            "source": "# create map of Toronto using latitude and longitude values\nmap_ecuador = folium.Map(location=[latitude, longitude], tiles='OpenStreetMap', zoom_start=12)\nmap_ecuador",
            "execution_count": null,
            "outputs": []
        },
        {
            "metadata": {
                "id": "JbfBLx8qLO5r"
            },
            "cell_type": "markdown",
            "source": "Then, I want to obtain the latitude and longitude for each provice in ecuador"
        },
        {
            "metadata": {
                "id": "yL0dnqjhLFkv",
                "outputId": "d697df6b-591c-4b16-9fec-ea104961aa3e",
                "colab": {
                    "base_uri": "https://localhost:8080/",
                    "height": 195
                }
            },
            "cell_type": "code",
            "source": "address_list=[]\nlatitude=[]\nlongitude=[]\n\nfor x in df['Provinces']:\n  address=str(x)+\",Ecuador\"\n  geolocator = Nominatim(user_agent=\"ecuador_explorer\")\n  location = geolocator.geocode(address)\n  latitude.append(location.latitude)\n  longitude.append(location.longitude)\n  \ndf2= pd.DataFrame({'Latitude':latitude,'Longitude':longitude})\ndf2.head()\n",
            "execution_count": null,
            "outputs": []
        },
        {
            "metadata": {
                "id": "2qs-wtLiK6Do"
            },
            "cell_type": "markdown",
            "source": "Then, I joined the two dataframes and show the results.\n"
        },
        {
            "metadata": {
                "id": "wyoyAPvqSYWu",
                "outputId": "892b6cf6-0b6e-40fa-c0e7-13e20b512375",
                "colab": {
                    "base_uri": "https://localhost:8080/",
                    "height": 610
                }
            },
            "cell_type": "code",
            "source": "ecuador = df.combine_first(df2)\necuador.sort_values(['Provinces'], inplace=True)\necuador",
            "execution_count": null,
            "outputs": []
        },
        {
            "metadata": {
                "id": "bRPjWV0Ma3dc"
            },
            "cell_type": "markdown",
            "source": "The Foursquare API is going to be used to explore the neighborhoods."
        },
        {
            "metadata": {
                "id": "BGeMby27a3DY"
            },
            "cell_type": "code",
            "source": "CLIENT_ID = 'CB245Q52IIDUCQ1VXR2HBN5HANNGGSNTWW2CZ0K2Z4PQWAZT' # your Foursquare ID\nCLIENT_SECRET = 'M4O5SZNTHG2JBVJSERHF10H2NC5IX3OMC20IIKHDLA2KHFWB' # your Foursquare Secret\nVERSION = '20180605' # Foursquare API version\nLIMIT = 100 # A default Foursquare API limit value",
            "execution_count": null,
            "outputs": []
        },
        {
            "metadata": {
                "id": "F8UwW1iXbJnw"
            },
            "cell_type": "markdown",
            "source": "I decided to explore Guayaquil, which is the provinces where I live."
        },
        {
            "metadata": {
                "id": "4oKtT5OebRfi",
                "outputId": "98ec04e6-989b-4e3a-e936-7b5006bf8d79",
                "colab": {
                    "base_uri": "https://localhost:8080/"
                }
            },
            "cell_type": "code",
            "source": "print(ecuador[ecuador['Provinces']=='Guayas'].index.values) # First, I get the index of my province.\nprint(ecuador.loc[8, 'Provinces'])\nguayas_latitude=ecuador.loc[8,'Latitude'] #  guayas latitude value\nguayas_longitude=ecuador.loc[8,'Longitude']\nprint(\"guayas latitude: {}\".format(guayas_latitude)) # guayas longitude value\nprint(\"guayas longitude: {}\".format(guayas_longitude)) # guayas longitude value",
            "execution_count": null,
            "outputs": []
        },
        {
            "metadata": {
                "id": "E3Pwl_qBffYQ"
            },
            "cell_type": "markdown",
            "source": "Now, let's get the top 100 venues that are Guayas within a radius of 1000 meters"
        },
        {
            "metadata": {
                "id": "R9xiHYpJfd--",
                "outputId": "ec895538-3959-44a4-b933-ff9a6bb9c2fa",
                "colab": {
                    "base_uri": "https://localhost:8080/",
                    "height": 52
                }
            },
            "cell_type": "code",
            "source": "LIMIT = 100 # limit of number of venues returned by Foursquare API\n\nradius = 100000 # define radius\n\nurl = 'https://api.foursquare.com/v2/venues/explore?&client_id={}&client_secret={}&v={}&ll={},{}&radius={}&limit={}'.format(\n    CLIENT_ID, \n    CLIENT_SECRET, \n    VERSION, \n    guayas_latitude, \n    guayas_longitude, \n    radius, \n    LIMIT)\nurl # display URL",
            "execution_count": null,
            "outputs": []
        },
        {
            "metadata": {
                "id": "KC1H0_snfu68"
            },
            "cell_type": "markdown",
            "source": "Send the GET request and examine the results"
        },
        {
            "metadata": {
                "id": "0CGVKRKSfw_6"
            },
            "cell_type": "code",
            "source": "ec_results = requests.get(url).json()",
            "execution_count": null,
            "outputs": []
        },
        {
            "metadata": {
                "id": "LHKM3pQUgLDi"
            },
            "cell_type": "markdown",
            "source": "From the Foursquare lab in the previous module, we know that all the information is in the items key. Before we proceed, let's borrow the get_category_type function from the Foursquare lab."
        },
        {
            "metadata": {
                "id": "d-Vz5xS7gKOr"
            },
            "cell_type": "code",
            "source": "# function that extracts the category of the venue\ndef get_category_type(row):\n    try:\n        categories_list = row['categories']\n    except:\n        categories_list = row['venue.categories']\n        \n    if len(categories_list) == 0:\n        return None\n    else:\n        return categories_list[0]['name']",
            "execution_count": null,
            "outputs": []
        },
        {
            "metadata": {
                "id": "i5HH5yV0gdWx"
            },
            "cell_type": "markdown",
            "source": "Then, we get the venues."
        },
        {
            "metadata": {
                "id": "for7QgLeggYS",
                "outputId": "82ed761f-a141-4f39-a0dd-63f8fbee73f2",
                "colab": {
                    "base_uri": "https://localhost:8080/",
                    "height": 229
                }
            },
            "cell_type": "code",
            "source": "ec_venues = ec_results['response']['groups'][0]['items']\n    \nec_nearby_venues = json_normalize(ec_venues) # flatten JSON\n\n# filter columns\nfiltered_columns = ['venue.name', 'venue.categories', 'venue.location.lat', 'venue.location.lng']\nec_nearby_venues =ec_nearby_venues.loc[:, filtered_columns]\n\n# filter the category for each row\nec_nearby_venues['venue.categories'] = ec_nearby_venues.apply(get_category_type, axis=1)\n\n# clean columns\nec_nearby_venues.columns = [col.split(\".\")[-1] for col in ec_nearby_venues.columns]\nec_nearby_venues.head()\n",
            "execution_count": null,
            "outputs": []
        },
        {
            "metadata": {
                "id": "Ny2oETphgsLA"
            },
            "cell_type": "markdown",
            "source": "100 venues were returned."
        },
        {
            "metadata": {
                "id": "JxRAyD1JgwbY",
                "outputId": "b2eacdcd-db95-4300-f2a8-629b97b33b0b",
                "colab": {
                    "base_uri": "https://localhost:8080/"
                }
            },
            "cell_type": "code",
            "source": "print('{} venues were returned by Foursquare.'.format(ec_nearby_venues.shape[0]))",
            "execution_count": null,
            "outputs": []
        },
        {
            "metadata": {
                "id": "Yg6Mw4ClhIXN"
            },
            "cell_type": "markdown",
            "source": "Explore provinces in Ecuador"
        },
        {
            "metadata": {
                "id": "5vhKZOuihBzh"
            },
            "cell_type": "code",
            "source": "def getNearbyVenues(names, latitudes, longitudes, radius=100000):\n    \n    venues_list=[]\n    for name, lat, lng in zip(names, latitudes, longitudes):\n        print(name)\n            \n        # create the API request URL\n        url = 'https://api.foursquare.com/v2/venues/explore?&client_id={}&client_secret={}&v={}&ll={},{}&radius={}&limit={}'.format(\n            CLIENT_ID, \n            CLIENT_SECRET, \n            VERSION, \n            lat, \n            lng, \n            radius, \n            LIMIT)\n            \n        # make the GET request\n        results = requests.get(url).json()[\"response\"]['groups'][0]['items']\n        \n        # return only relevant information for each nearby venue\n        venues_list.append([(\n            name, \n            lat, \n            lng, \n            v['venue']['name'], \n            v['venue']['location']['lat'], \n            v['venue']['location']['lng'],  \n            v['venue']['categories'][0]['name']) for v in results])\n\n    nearby_venues = pd.DataFrame([item for venue_list in venues_list for item in venue_list])\n    nearby_venues.columns = ['Neighborhood', \n                  'Neighborhood Latitude', \n                  'Neighborhood Longitude', \n                  'Venue', \n                  'Venue Latitude', \n                  'Venue Longitude', \n                  'Venue Category']\n    \n    return(nearby_venues)",
            "execution_count": null,
            "outputs": []
        },
        {
            "metadata": {
                "id": "Orx45zY_hUI7",
                "outputId": "6860b13e-d437-4f6d-f98b-37bf2455ee76",
                "colab": {
                    "base_uri": "https://localhost:8080/"
                }
            },
            "cell_type": "code",
            "source": "ecuador_venues = getNearbyVenues(names=ecuador['Provinces'],\n                                   latitudes=ecuador['Latitude'],\n                                   longitudes=ecuador['Longitude']\n                                  )",
            "execution_count": null,
            "outputs": []
        },
        {
            "metadata": {
                "id": "Dn8UTemMiH7k"
            },
            "cell_type": "markdown",
            "source": "Let's check the size of the resulting dataframe"
        },
        {
            "metadata": {
                "id": "DODQhx0liKCl",
                "outputId": "9d695f4e-f534-4a74-8620-99bb40da3787",
                "colab": {
                    "base_uri": "https://localhost:8080/"
                }
            },
            "cell_type": "code",
            "source": "print(ecuador_venues.shape)",
            "execution_count": null,
            "outputs": []
        },
        {
            "metadata": {
                "id": "cZpJS92BkYCQ"
            },
            "cell_type": "code",
            "source": "# add markers to map\nfor lat, lng, provinces, confirmedCases, ConfirmedDeaths in zip(ecuador['Latitude'], ecuador['Longitude'], ecuador['Provinces'], ecuador['Confirmed cases'], ecuador['Confirmed deaths']):\n    label = 'Provinces: {}, Confirmed Cases: {}, Deaths: {}'.format(provinces, confirmedCases ,ConfirmedDeaths)\n    label = folium.Popup(label, parse_html=True)\n    folium.CircleMarker(\n        [lat, lng],\n        radius=(5*float(confirmedCases.replace(',',''))/59477),\n        popup=label,\n        color='red',\n        fill='red',\n        fill_color='#FF0000',\n        fill_opacity=(float(confirmedCases.replace(',',''))/59477),\n        parse_html=False).add_to(map_ecuador)\n  \n\n    \n",
            "execution_count": null,
            "outputs": []
        },
        {
            "metadata": {
                "id": "T2cqpoN7oE3t",
                "outputId": "7f0671ae-3a93-437b-f150-5173db651045",
                "colab": {
                    "base_uri": "https://localhost:8080/",
                    "height": 866
                }
            },
            "cell_type": "code",
            "source": "map_ecuador",
            "execution_count": null,
            "outputs": []
        },
        {
            "metadata": {
                "id": "_EN1zyuEZ2Oy"
            },
            "cell_type": "markdown",
            "source": "# ***5. Discussion section***"
        },
        {
            "metadata": {
                "id": "W3Cgp9MWZ-I_"
            },
            "cell_type": "markdown",
            "source": "In this section any observations and any recommendations will be discussed."
        },
        {
            "metadata": {
                "id": "Mfd5MQKyxzrr"
            },
            "cell_type": "markdown",
            "source": "# **6. Conclusion:** \nWith this information, I conclude that Pichincha is most dangerous provinces to visit. I can make more further analysis about this data. This analysis will continue on week 5."
        }
    ],
    "metadata": {
        "kernelspec": {
            "name": "python3",
            "display_name": "Python 3.7",
            "language": "python"
        },
        "language_info": {
            "name": "python",
            "version": "3.7.9",
            "mimetype": "text/x-python",
            "codemirror_mode": {
                "name": "ipython",
                "version": 3
            },
            "pygments_lexer": "ipython3",
            "nbconvert_exporter": "python",
            "file_extension": ".py"
        },
        "colab": {
            "name": "Copy of Capstone Project -Week 4.ipynb",
            "provenance": [],
            "collapsed_sections": []
        }
    },
    "nbformat": 4,
    "nbformat_minor": 1
}