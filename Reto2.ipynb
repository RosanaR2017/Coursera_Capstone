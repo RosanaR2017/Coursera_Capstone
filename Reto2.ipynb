{
  "nbformat": 4,
  "nbformat_minor": 0,
  "metadata": {
    "colab": {
      "name": "Reto2.ipynb",
      "provenance": [],
      "collapsed_sections": [],
      "include_colab_link": true
    },
    "kernelspec": {
      "name": "python3",
      "display_name": "Python 3"
    }
  },
  "cells": [
    {
      "cell_type": "markdown",
      "metadata": {
        "id": "view-in-github",
        "colab_type": "text"
      },
      "source": [
        "<a href=\"https://colab.research.google.com/github/RosanaR2017/Coursera_Capstone/blob/master/Reto2.ipynb\" target=\"_parent\"><img src=\"https://colab.research.google.com/assets/colab-badge.svg\" alt=\"Open In Colab\"/></a>"
      ]
    },
    {
      "cell_type": "markdown",
      "metadata": {
        "id": "T_dr2NYhM5Fb",
        "colab_type": "text"
      },
      "source": [
        ""
      ]
    },
    {
      "cell_type": "markdown",
      "metadata": {
        "id": "nCnsmJeHMA8y",
        "colab_type": "text"
      },
      "source": [
        "<!DOCTYPE html>\n",
        "<html><head>\n",
        "<title>El reto</title>\n",
        "</head>\n",
        "<body>\n",
        "<h1>RETO</h1>\n",
        "<p>\n",
        "El Centro Comercial Unaleño desea comenzar a crear un carrito de compras. Para esto se requiere una tarea que será de gran utilidad a futuro: Leer y clasificar la información sobre un producto. \n",
        "\n",
        "En esta ocasión se deberá leer el nombre de un producto, el costo unitario, el precio de venta al público y la cantidad de unidades disponibles. Dada esta lectura se debe imprimir el valor total que puede ganar el centro comercial por dicho producto.\n",
        "\n",
        "Entrada: Los valores de cada producto en una línea de código diferente. En el siguiente orden:\n",
        "El nombre del producto\n",
        "El costo unitario CU\n",
        "El precio de venta al público PVP\n",
        "La cantidad de unidades disponibles\n",
        "\n",
        "Salida: Se debe mostrar lo siguiente:\n",
        "El texto “Producto” sin comillas acompañado del nombre del producto\n",
        "El texto “CU:” sin comillas acompañado del costo unitario del mismo\n",
        "El texto “PVP:” sin comillas acompañado del precio de venta al público\n",
        "El texto “Unidades Disponibles:” acompañado de las unidades disponibles\n",
        "El texto “Ganancia:” acompañado del cálculo de la ganancia por ese producto. \n",
        "</p>\n",
        "<h2>Ejemplo:</h2>\n",
        "\n",
        "<table>\n",
        "  <tr>\n",
        "    <th>Entrada</th>\n",
        "    <th>Salida</th>\n",
        "  </tr>\n",
        "\n",
        "  <tr>\n",
        "    <td>Salida</td>\n",
        "    <td>Producto: Chocolatinas Cohete</td>\n",
        "  </tr>\n",
        "\n",
        "  <tr>\n",
        "    <td>Chocolatinas Cohete CU:</td>\n",
        "    <td> $300 </td>\n",
        "  </tr>\n",
        "\n",
        "  <tr>\n",
        "    <td>300</td>\n",
        "    <td>PVP: $550</td>\n",
        "  </tr>\n",
        "\n",
        "  <tr>\n",
        "    <td>550</td>\n",
        "    <td>Unidades Disponibles: 1000</td>\n",
        "  </tr>\n",
        "  \n",
        "  <tr>\n",
        "    <td>1000</td>\n",
        "    <td>Ganancia: $250000</td>\n",
        "  </tr>\n",
        "</table>\n",
        "\n",
        " </body></html>"
      ]
    },
    {
      "cell_type": "code",
      "metadata": {
        "id": "Qoai-nILgv20",
        "colab_type": "code",
        "colab": {
          "base_uri": "https://localhost:8080/",
          "height": 238
        },
        "outputId": "30af5569-0b0b-4d3e-f352-37800f25f14d"
      },
      "source": [
        "def positivo(n):\n",
        "    while True:        \n",
        "        if float(n) < 0 :\n",
        "                myError=ValueError(\"Número negativo, no válido\")\n",
        "                raise myError\n",
        "        else:\n",
        "          break\n",
        "    return (float(n))\n",
        "\n",
        "def error_e():\n",
        "    print(\"Error en entrada de datos:valor invalido, intente de nuevo ingresando producto,costo,precio y unidades\")\n",
        "\n",
        "while True:\n",
        "    try:\n",
        "        Nombre_producto = str(input(\"Ingrese el nombre del producto:\")) #\"Ingrese el nombre del producto: , No hay validacion del producto porque puede ser un código númerico\"\n",
        "        Costo= positivo(input(\"\\nIngrese costo unitario CU:\"))  #\"Ingrese costo unitario CU:\"\n",
        "        Precio = positivo(input(\"\\nIngrese precio de venta al público PVP:\")) # \"Ingrese precio de venta al público PVP:\"  \n",
        "        \n",
        "        if Costo > Precio :\n",
        "            print(\"Ingreso un Precio menor que el costo:Error\")\n",
        "            raise ValueError\n",
        "        else:\n",
        "          Unidades= int(positivo(input(\"\\nIngrese cantidad de unidades disponibles:\"))) #\"Ingrese cantidad de unidades disponibles:\"\n",
        "          Ganancia = int((Precio-Costo)*Unidades)\n",
        "          print(\"\\nProducto:\"+\" \"+ Nombre_producto + \"\\nCU:\"\"$\" + format(int(Costo), \"\")+ \"\\nPVP:\"\"$\" + format(int(Precio), \"\")+\\\n",
        "          \"\\nUnidades disponibles:\" + str(Unidades)+ \"\\nGanancia:\"\"$\"+ format(Ganancia, \"\"))\n",
        "          break\n",
        "    except ValueError:\n",
        "        salida=(input(\"¿Esta cansado de este problema o no lo entiende?, Ingrese \\'si\\', si de sea salir. De lo contrario seguira en el programa: \"))\n",
        "        if salida ==\"si\":\n",
        "            break\n",
        "        else:    \n",
        "            error_e() #Continua en el programa\n",
        "    else: \n",
        "      break\n",
        "\n"
      ],
      "execution_count": 1,
      "outputs": [
        {
          "output_type": "stream",
          "text": [
            "Ingrese el nombre del producto:ch\n",
            "\n",
            "Ingrese costo unitario CU:300\n",
            "\n",
            "Ingrese precio de venta al público PVP:550\n",
            "\n",
            "Ingrese cantidad de unidades disponibles:1000\n",
            "\n",
            "Producto: ch\n",
            "CU:$300\n",
            "PVP:$550\n",
            "Unidades disponibles:1000\n",
            "Ganancia:$250000\n"
          ],
          "name": "stdout"
        }
      ]
    },
    {
      "cell_type": "code",
      "metadata": {
        "id": "tv_M5bGxM_HG",
        "colab_type": "code",
        "colab": {}
      },
      "source": [
        ""
      ],
      "execution_count": null,
      "outputs": []
    },
    {
      "cell_type": "markdown",
      "metadata": {
        "id": "eUVZYge7M_q_",
        "colab_type": "text"
      },
      "source": [
        ""
      ]
    }
  ]
}